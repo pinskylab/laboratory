{
 "cells": [
  {
   "cell_type": "markdown",
   "metadata": {},
   "source": [
    "# SEQ29 filtering - PER MALIN - don't do this...\n",
    "Don't filter snps in small groups, filter entire population together in one master document.\n",
    "________________________________"
   ]
  },
  {
   "cell_type": "markdown",
   "metadata": {},
   "source": [
    "## 1. Make sure the mybaits contig target list is in the samples folder - try the --bed option (remember first position could be 0)\n",
    "\n"
   ]
  },
  {
   "cell_type": "code",
   "execution_count": 2,
   "metadata": {},
   "outputs": [
    {
     "name": "stdout",
     "output_type": "stream",
     "text": [
      "/local/home/michelles/02-apcl-ddocent/29seq/samples/mybaits_contigs_1050.txt\r\n"
     ]
    }
   ],
   "source": [
    "!ls /local/home/michelles/02-apcl-ddocent/29seq/samples/*contig*"
   ]
  },
  {
   "cell_type": "markdown",
   "metadata": {},
   "source": [
    "## 2. Remove all sites that are not on the mybaits_contigs list."
   ]
  },
  {
   "cell_type": "code",
   "execution_count": 8,
   "metadata": {},
   "outputs": [
    {
     "name": "stdout",
     "output_type": "stream",
     "text": [
      "\n",
      "VCFtools - 0.1.15\n",
      "(C) Adam Auton and Anthony Marcketta 2009\n",
      "\n",
      "Parameters as interpreted:\n",
      "\t--vcf /local/home/michelles/02-apcl-ddocent/29seq/samples/TotalRawSNPs.vcf\n",
      "\t--recode-INFO-all\n",
      "\t--out /local/home/michelles/02-apcl-ddocent/29seq/samples/29seq_raw_mybaits\n",
      "\t--positions /local/home/michelles/02-apcl-ddocent/29seq/samples/mybaits_contigs_1050.txt\n",
      "\t--recode\n",
      "\n",
      "After filtering, kept 576 out of 576 Individuals\n",
      "Outputting VCF file...\n",
      "After filtering, kept 6207 out of a possible 400465 Sites\n",
      "Run Time = 29.00 seconds\n"
     ]
    }
   ],
   "source": [
    "!vcftools --vcf /local/home/michelles/02-apcl-ddocent/29seq/samples/TotalRawSNPs.vcf --positions /local/home/michelles/02-apcl-ddocent/29seq/samples/mybaits_contigs_1050.txt --out /local/home/michelles/02-apcl-ddocent/29seq/samples/29seq_raw_mybaits --recode-INFO-all --recode"
   ]
  },
  {
   "cell_type": "markdown",
   "metadata": {},
   "source": [
    "# Quality checks\n",
    "--------------------------------------"
   ]
  },
  {
   "cell_type": "markdown",
   "metadata": {},
   "source": [
    "## How many loci are found in at least 50% of the population"
   ]
  },
  {
   "cell_type": "code",
   "execution_count": 14,
   "metadata": {},
   "outputs": [
    {
     "name": "stdout",
     "output_type": "stream",
     "text": [
      "\n",
      "VCFtools - 0.1.15\n",
      "(C) Adam Auton and Anthony Marcketta 2009\n",
      "\n",
      "Parameters as interpreted:\n",
      "\t--vcf /local/home/michelles/02-apcl-ddocent/29seq/samples/29seq_raw_mybaits.recode.vcf\n",
      "\t--recode-INFO-all\n",
      "\t--max-missing 0.5\n",
      "\t--out /local/home/michelles/02-apcl-ddocent/29seq/samples/29seq_raw_mybaits_g5\n",
      "\t--recode\n",
      "\n",
      "After filtering, kept 576 out of 576 Individuals\n",
      "Outputting VCF file...\n",
      "After filtering, kept 6136 out of a possible 6207 Sites\n",
      "Run Time = 22.00 seconds\n"
     ]
    }
   ],
   "source": [
    "!vcftools --vcf /local/home/michelles/02-apcl-ddocent/29seq/samples/29seq_raw_mybaits.recode.vcf --max-missing 0.5 --out /local/home/michelles/02-apcl-ddocent/29seq/samples/29seq_raw_mybaits_g5 --recode --recode-INFO-all "
   ]
  },
  {
   "cell_type": "markdown",
   "metadata": {},
   "source": [
    "## Dropped 71 sites"
   ]
  },
  {
   "cell_type": "markdown",
   "metadata": {},
   "source": [
    "## How many have a minor allele count of 3?"
   ]
  },
  {
   "cell_type": "code",
   "execution_count": 15,
   "metadata": {},
   "outputs": [
    {
     "name": "stdout",
     "output_type": "stream",
     "text": [
      "\n",
      "VCFtools - 0.1.15\n",
      "(C) Adam Auton and Anthony Marcketta 2009\n",
      "\n",
      "Parameters as interpreted:\n",
      "\t--vcf /local/home/michelles/02-apcl-ddocent/29seq/samples/29seq_raw_mybaits_g5.recode.vcf\n",
      "\t--recode-INFO-all\n",
      "\t--mac 3\n",
      "\t--out /local/home/michelles/02-apcl-ddocent/29seq/samples/29seq_raw_mybaits_g5mac3\n",
      "\t--recode\n",
      "\n",
      "After filtering, kept 576 out of 576 Individuals\n",
      "Outputting VCF file...\n",
      "After filtering, kept 5331 out of a possible 6136 Sites\n",
      "Run Time = 20.00 seconds\n"
     ]
    }
   ],
   "source": [
    "!vcftools \\\n",
    "--vcf /local/home/michelles/02-apcl-ddocent/29seq/samples/29seq_raw_mybaits_g5.recode.vcf \\\n",
    "--mac 3 \\\n",
    "--out /local/home/michelles/02-apcl-ddocent/29seq/samples/29seq_raw_mybaits_g5mac3 \\\n",
    "--recode \\\n",
    "--recode-INFO-all "
   ]
  },
  {
   "cell_type": "markdown",
   "metadata": {},
   "source": [
    "## Dropped 805 sites"
   ]
  },
  {
   "cell_type": "markdown",
   "metadata": {},
   "source": [
    "## How many have a quality score of less than 30?"
   ]
  },
  {
   "cell_type": "code",
   "execution_count": 18,
   "metadata": {},
   "outputs": [
    {
     "name": "stdout",
     "output_type": "stream",
     "text": [
      "\n",
      "VCFtools - 0.1.15\n",
      "(C) Adam Auton and Anthony Marcketta 2009\n",
      "\n",
      "Parameters as interpreted:\n",
      "\t--vcf /local/home/michelles/02-apcl-ddocent/29seq/samples/29seq_raw_mybaits_g5mac3.recode.vcf\n",
      "\t--recode-INFO-all\n",
      "\t--minQ 30\n",
      "\t--out /local/home/michelles/02-apcl-ddocent/29seq/samples/29seq_raw_mybaits_g5mac3q30\n",
      "\t--recode\n",
      "\n",
      "After filtering, kept 576 out of 576 Individuals\n",
      "Outputting VCF file...\n",
      "After filtering, kept 5023 out of a possible 5331 Sites\n",
      "Run Time = 18.00 seconds\n"
     ]
    }
   ],
   "source": [
    "!vcftools \\\n",
    "--vcf /local/home/michelles/02-apcl-ddocent/29seq/samples/29seq_raw_mybaits_g5mac3.recode.vcf \\\n",
    "--minQ 30 \\\n",
    "--out /local/home/michelles/02-apcl-ddocent/29seq/samples/29seq_raw_mybaits_g5mac3q30 \\\n",
    "--recode \\\n",
    "--recode-INFO-all "
   ]
  },
  {
   "cell_type": "markdown",
   "metadata": {},
   "source": [
    "## Dropped 308 sites"
   ]
  },
  {
   "cell_type": "markdown",
   "metadata": {},
   "source": [
    "## How many sites have a minimum depth of 3?"
   ]
  },
  {
   "cell_type": "code",
   "execution_count": 19,
   "metadata": {},
   "outputs": [
    {
     "name": "stdout",
     "output_type": "stream",
     "text": [
      "\n",
      "VCFtools - 0.1.15\n",
      "(C) Adam Auton and Anthony Marcketta 2009\n",
      "\n",
      "Parameters as interpreted:\n",
      "\t--vcf /local/home/michelles/02-apcl-ddocent/29seq/samples/29seq_raw_mybaits_g5mac3q30.recode.vcf\n",
      "\t--recode-INFO-all\n",
      "\t--minDP 3\n",
      "\t--out /local/home/michelles/02-apcl-ddocent/29seq/samples/29seq_raw_mybaits_g5mac3q30dp3\n",
      "\t--recode\n",
      "\n",
      "After filtering, kept 576 out of 576 Individuals\n",
      "Outputting VCF file...\n",
      "After filtering, kept 5023 out of a possible 5023 Sites\n",
      "Run Time = 19.00 seconds\n"
     ]
    }
   ],
   "source": [
    "!vcftools \\\n",
    "--vcf /local/home/michelles/02-apcl-ddocent/29seq/samples/29seq_raw_mybaits_g5mac3q30.recode.vcf \\\n",
    "--minDP 3 \\\n",
    "--out /local/home/michelles/02-apcl-ddocent/29seq/samples/29seq_raw_mybaits_g5mac3q30dp3 \\\n",
    "--recode \\\n",
    "--recode-INFO-all "
   ]
  },
  {
   "cell_type": "markdown",
   "metadata": {},
   "source": [
    "## Kept all sites"
   ]
  },
  {
   "cell_type": "markdown",
   "metadata": {},
   "source": [
    "## Do any individuals have more than X missing data?"
   ]
  },
  {
   "cell_type": "code",
   "execution_count": 29,
   "metadata": {},
   "outputs": [
    {
     "name": "stdout",
     "output_type": "stream",
     "text": [
      "\n",
      "VCFtools - 0.1.15\n",
      "(C) Adam Auton and Anthony Marcketta 2009\n",
      "\n",
      "Parameters as interpreted:\n",
      "\t--vcf /local/home/michelles/02-apcl-ddocent/29seq/samples/29seq_raw_mybaits_g5mac3q30dp3.recode.vcf\n",
      "\t--missing-indv\n",
      "\t--out /local/home/michelles/02-apcl-ddocent/29seq/samples/\n",
      "\n",
      "After filtering, kept 576 out of 576 Individuals\n",
      "Outputting Individual Missingness\n",
      "After filtering, kept 5023 out of a possible 5023 Sites\n",
      "Run Time = 1.00 seconds\n"
     ]
    }
   ],
   "source": [
    "!vcftools \\\n",
    "--vcf /local/home/michelles/02-apcl-ddocent/29seq/samples/29seq_raw_mybaits_g5mac3q30dp3.recode.vcf \\\n",
    "--missing-indv \\\n",
    "--out /local/home/michelles/02-apcl-ddocent/29seq/samples/"
   ]
  },
  {
   "cell_type": "code",
   "execution_count": 31,
   "metadata": {},
   "outputs": [
    {
     "name": "stdout",
     "output_type": "stream",
     "text": [
      "\f",
      "                                         Histogram of % missing data per individual\n",
      "  Number of Occurrences\n",
      "    50 ++---------+----------+----------+----------+----------+----------+----------+----------+----------+---------++\n",
      "       +          +          +          +  **      +          + 'totalmissing' using (bin($1,binwidth)):(1.0) ****** +\n",
      "    45 ++                                 ***                                                                       ++\n",
      "       |                                  ***                                                                        |\n",
      "       |                                *****                                                                        |\n",
      "    40 ++                               *****                                                                       ++\n",
      "       |                                *****                                                                        |\n",
      "    35 ++                               *****                                                                       ++\n",
      "       |                               ******                                                                        |\n",
      "       |                               ******                                                                        |\n",
      "    30 ++                              ******                                                                       ++\n",
      "       |                               ********                                                                      |\n",
      "    25 ++                              ****** *                                                                     ++\n",
      "       |                               ****** *                                                                      |\n",
      "    20 ++                 **           ****** *                                                                     ++\n",
      "       |                  **           ****** *                                                          **          |\n",
      "       |                  **           ****** *                                                          **          |\n",
      "    15 ++          *********          ******* *                                                          **         ++\n",
      "       |      **   **** ******* ** ** ******* *                                                          **          |\n",
      "    10 ++     **** **** ******* ** ********** *                                                          ***        ++\n",
      "       |      **** **** ********************* **                                                         ***         |\n",
      "       |   ************ ********** ********** **                                                         ***         |\n",
      "     5 ++*** ********** ********** ********** **                                                         ***        ++\n",
      "       +**** ********** ********** ********** ***  ***        +          +          +          +         ***         +\n",
      "     0 +****************************************************************************************************--------++\n",
      "      0.1        0.2        0.3        0.4        0.5        0.6        0.7        0.8        0.9         1         1.1\n",
      "                                                      % of missing data\n",
      "\n"
     ]
    }
   ],
   "source": [
    "%%bash\n",
    "mawk '!/IN/' out.imiss | cut -f5 > totalmissing\n",
    "gnuplot << \\EOF \n",
    "set terminal dumb size 120, 30\n",
    "set autoscale \n",
    "unset label\n",
    "set title \"Histogram of % missing data per individual\"\n",
    "set ylabel \"Number of Occurrences\"\n",
    "set xlabel \"% of missing data\"\n",
    "#set yr [0:100000]\n",
    "binwidth=0.01\n",
    "bin(x,width)=width*floor(x/width) + binwidth/2.0\n",
    "plot 'totalmissing' using (bin($1,binwidth)):(1.0) smooth freq with boxes\n",
    "pause -1\n",
    "EOF"
   ]
  },
  {
   "cell_type": "code",
   "execution_count": 33,
   "metadata": {},
   "outputs": [],
   "source": [
    "!mawk '$5 > 0.5' out.imiss | cut -f1 > lowDP.indv"
   ]
  },
  {
   "cell_type": "code",
   "execution_count": 34,
   "metadata": {},
   "outputs": [
    {
     "name": "stdout",
     "output_type": "stream",
     "text": [
      "\n",
      "VCFtools - 0.1.15\n",
      "(C) Adam Auton and Anthony Marcketta 2009\n",
      "\n",
      "Parameters as interpreted:\n",
      "\t--vcf /local/home/michelles/02-apcl-ddocent/29seq/samples/29seq_raw_mybaits_g5mac3q30dp3.recode.vcf\n",
      "\t--remove lowDP.indv\n",
      "\t--recode-INFO-all\n",
      "\t--out /local/home/michelles/02-apcl-ddocent/29seq/samples/29seq_raw_mybaits_g5mac3q30dp3lm\n",
      "\t--recode\n",
      "\n",
      "Excluding individuals in 'exclude' list\n",
      "After filtering, kept 531 out of 576 Individuals\n",
      "Outputting VCF file...\n",
      "After filtering, kept 5023 out of a possible 5023 Sites\n",
      "Run Time = 16.00 seconds\n"
     ]
    }
   ],
   "source": [
    "!vcftools \\\n",
    "--vcf /local/home/michelles/02-apcl-ddocent/29seq/samples/29seq_raw_mybaits_g5mac3q30dp3.recode.vcf \\\n",
    "--remove lowDP.indv \\\n",
    "--recode \\\n",
    "--recode-INFO-all \\\n",
    "--out /local/home/michelles/02-apcl-ddocent/29seq/samples/29seq_raw_mybaits_g5mac3q30dp3lm"
   ]
  },
  {
   "cell_type": "markdown",
   "metadata": {},
   "source": [
    "## Removed 45 individuals"
   ]
  },
  {
   "cell_type": "markdown",
   "metadata": {},
   "source": [
    "## How many SNPs are present in 95% of the population?"
   ]
  },
  {
   "cell_type": "code",
   "execution_count": 35,
   "metadata": {},
   "outputs": [
    {
     "name": "stdout",
     "output_type": "stream",
     "text": [
      "\n",
      "VCFtools - 0.1.15\n",
      "(C) Adam Auton and Anthony Marcketta 2009\n",
      "\n",
      "Parameters as interpreted:\n",
      "\t--vcf /local/home/michelles/02-apcl-ddocent/29seq/samples/29seq_raw_mybaits_g5mac3q30dp3lm.recode.vcf\n",
      "\t--recode-INFO-all\n",
      "\t--max-missing 0.95\n",
      "\t--out /local/home/michelles/02-apcl-ddocent/29seq/samples/29seq_raw_mybaits_g95mac3q30dp3lm\n",
      "\t--recode\n",
      "\n",
      "After filtering, kept 531 out of 531 Individuals\n",
      "Outputting VCF file...\n",
      "After filtering, kept 2753 out of a possible 5023 Sites\n",
      "Run Time = 13.00 seconds\n"
     ]
    }
   ],
   "source": [
    "!vcftools \\\n",
    "--vcf /local/home/michelles/02-apcl-ddocent/29seq/samples/29seq_raw_mybaits_g5mac3q30dp3lm.recode.vcf \\\n",
    "--max-missing 0.95 \\\n",
    "--recode \\\n",
    "--recode-INFO-all \\\n",
    "--out /local/home/michelles/02-apcl-ddocent/29seq/samples/29seq_raw_mybaits_g95mac3q30dp3lm"
   ]
  },
  {
   "cell_type": "markdown",
   "metadata": {},
   "source": [
    "## Dropped 2270 sites"
   ]
  },
  {
   "cell_type": "markdown",
   "metadata": {},
   "source": [
    "## How many SNPs have a minor allele frequency of 0.05?"
   ]
  },
  {
   "cell_type": "code",
   "execution_count": 37,
   "metadata": {},
   "outputs": [
    {
     "name": "stdout",
     "output_type": "stream",
     "text": [
      "\n",
      "VCFtools - 0.1.15\n",
      "(C) Adam Auton and Anthony Marcketta 2009\n",
      "\n",
      "Parameters as interpreted:\n",
      "\t--vcf /local/home/michelles/02-apcl-ddocent/29seq/samples/29seq_raw_mybaits_g95mac3q30dp3lm.recode.vcf\n",
      "\t--recode-INFO-all\n",
      "\t--maf 0.05\n",
      "\t--out /local/home/michelles/02-apcl-ddocent/29seq/samples/29seq_raw_mybaits_g95maf5q30dp3lm\n",
      "\t--recode\n",
      "\n",
      "After filtering, kept 531 out of 531 Individuals\n",
      "Outputting VCF file...\n",
      "After filtering, kept 1308 out of a possible 2753 Sites\n",
      "Run Time = 5.00 seconds\n"
     ]
    }
   ],
   "source": [
    "!vcftools \\\n",
    "--vcf /local/home/michelles/02-apcl-ddocent/29seq/samples/29seq_raw_mybaits_g95mac3q30dp3lm.recode.vcf \\\n",
    "--maf 0.05 \\\n",
    "--recode \\\n",
    "--recode-INFO-all \\\n",
    "--out /local/home/michelles/02-apcl-ddocent/29seq/samples/29seq_raw_mybaits_g95maf5q30dp3lm"
   ]
  },
  {
   "cell_type": "markdown",
   "metadata": {},
   "source": [
    "## Dropped 1445 sites"
   ]
  },
  {
   "cell_type": "markdown",
   "metadata": {},
   "source": [
    "## How many SNPs have an average depth of more than 20?"
   ]
  },
  {
   "cell_type": "code",
   "execution_count": 38,
   "metadata": {},
   "outputs": [
    {
     "name": "stdout",
     "output_type": "stream",
     "text": [
      "\n",
      "VCFtools - 0.1.15\n",
      "(C) Adam Auton and Anthony Marcketta 2009\n",
      "\n",
      "Parameters as interpreted:\n",
      "\t--vcf /local/home/michelles/02-apcl-ddocent/29seq/samples/29seq_raw_mybaits_g95maf5q30dp3lm.recode.vcf\n",
      "\t--recode-INFO-all\n",
      "\t--min-meanDP 20\n",
      "\t--out /local/home/michelles/02-apcl-ddocent/29seq/samples/29seq_raw_mybaits_g95maf5q30dp20lm\n",
      "\t--recode\n",
      "\n",
      "After filtering, kept 531 out of 531 Individuals\n",
      "Outputting VCF file...\n",
      "After filtering, kept 1308 out of a possible 1308 Sites\n",
      "Run Time = 4.00 seconds\n"
     ]
    }
   ],
   "source": [
    "!vcftools \\\n",
    "--vcf /local/home/michelles/02-apcl-ddocent/29seq/samples/29seq_raw_mybaits_g95maf5q30dp3lm.recode.vcf \\\n",
    "--min-meanDP 20 \\\n",
    "--recode \\\n",
    "--recode-INFO-all \\\n",
    "--out /local/home/michelles/02-apcl-ddocent/29seq/samples/29seq_raw_mybaits_g95maf5q30dp20lm\n",
    "\n",
    "\n",
    "\n",
    "\n",
    "\n"
   ]
  },
  {
   "cell_type": "markdown",
   "metadata": {},
   "source": [
    "## Kept all sites"
   ]
  },
  {
   "cell_type": "markdown",
   "metadata": {},
   "source": [
    "## Filter out sites with an allele balance that is not close to 0.5"
   ]
  },
  {
   "cell_type": "code",
   "execution_count": 40,
   "metadata": {},
   "outputs": [],
   "source": [
    "!vcffilter -s -f \"AB > 0.25 & AB < 0.75 | AB < 0.01\" /local/home/michelles/02-apcl-ddocent/29seq/samples/29seq_raw_mybaits_g95maf5q30dp20lm.recode.vcf > /local/home/michelles/02-apcl-ddocent/29seq/samples/29seq_raw_mybaits_g95maf5q30dp20lm.fil1.vcf"
   ]
  },
  {
   "cell_type": "code",
   "execution_count": 41,
   "metadata": {},
   "outputs": [
    {
     "name": "stdout",
     "output_type": "stream",
     "text": [
      "1308\r\n"
     ]
    }
   ],
   "source": [
    "# Before\n",
    "!mawk '!/#/' /local/home/michelles/02-apcl-ddocent/29seq/samples/29seq_raw_mybaits_g95maf5q30dp20lm.recode.vcf | wc -l"
   ]
  },
  {
   "cell_type": "code",
   "execution_count": 42,
   "metadata": {},
   "outputs": [
    {
     "name": "stdout",
     "output_type": "stream",
     "text": [
      "1078\r\n"
     ]
    }
   ],
   "source": [
    "# After\n",
    "!mawk '!/#/' /local/home/michelles/02-apcl-ddocent/29seq/samples/29seq_raw_mybaits_g95maf5q30dp20lm.fil1.vcf | wc -l"
   ]
  },
  {
   "cell_type": "markdown",
   "metadata": {},
   "source": [
    "## Dropped 230 sites"
   ]
  },
  {
   "cell_type": "markdown",
   "metadata": {},
   "source": [
    "## Filter out sites that have a discrepency in mapping quality between reference and variant alleles\n",
    "RADseq data should all start from the same genomic location (cutsite) so mapping quality should be similar between alleles."
   ]
  },
  {
   "cell_type": "code",
   "execution_count": 2,
   "metadata": {},
   "outputs": [],
   "source": [
    "!vcffilter -f \"MQM / MQMR > 0.9 & MQM / MQMR < 1.05\" /local/home/michelles/02-apcl-ddocent/29seq/samples/29seq_raw_mybaits_g95maf5q30dp20lm.fil1.vcf > /local/home/michelles/02-apcl-ddocent/29seq/samples/29seq_raw_mybaits_g95maf5q30dp20lm.fil2.vcf"
   ]
  },
  {
   "cell_type": "code",
   "execution_count": 3,
   "metadata": {},
   "outputs": [
    {
     "name": "stdout",
     "output_type": "stream",
     "text": [
      "999\r\n"
     ]
    }
   ],
   "source": [
    "!mawk '!/#/' /local/home/michelles/02-apcl-ddocent/29seq/samples/29seq_raw_mybaits_g95maf5q30dp20lm.fil2.vcf | wc -l"
   ]
  },
  {
   "cell_type": "markdown",
   "metadata": {},
   "source": [
    "## Dropped 79 sites"
   ]
  },
  {
   "cell_type": "markdown",
   "metadata": {},
   "source": [
    "## Remove any locus that has a quality score below 1/4 of the depth"
   ]
  },
  {
   "cell_type": "code",
   "execution_count": 8,
   "metadata": {},
   "outputs": [],
   "source": [
    "!vcffilter -f \"QUAL / DP > 0.25\" /local/home/michelles/02-apcl-ddocent/29seq/samples/29seq_raw_mybaits_g95maf5q30dp20lm.fil2.vcf > /local/home/michelles/02-apcl-ddocent/29seq/samples/29seq_raw_mybaits_g95maf5q30dp20lm.fil3.vcf"
   ]
  },
  {
   "cell_type": "code",
   "execution_count": 9,
   "metadata": {},
   "outputs": [
    {
     "name": "stdout",
     "output_type": "stream",
     "text": [
      "999\r\n"
     ]
    }
   ],
   "source": [
    "!mawk '!/#/' /local/home/michelles/02-apcl-ddocent/29seq/samples/29seq_raw_mybaits_g95maf5q30dp20lm.fil3.vcf | wc -l"
   ]
  },
  {
   "cell_type": "markdown",
   "metadata": {},
   "source": [
    "## Create a list of depth of each locus"
   ]
  },
  {
   "cell_type": "code",
   "execution_count": 10,
   "metadata": {},
   "outputs": [],
   "source": [
    "!cut -f8 /local/home/michelles/02-apcl-ddocent/29seq/samples/29seq_raw_mybaits_g95maf5q30dp20lm.fil3.vcf | grep -oe \"DP=[0-9]*\" | sed -s 's/DP=//g' > /local/home/michelles/02-apcl-ddocent/29seq/samples/29seq_raw_mybaits_g95maf5q30dp20lm.fil3.DEPTH"
   ]
  },
  {
   "cell_type": "code",
   "execution_count": 12,
   "metadata": {
    "collapsed": true
   },
   "outputs": [
    {
     "name": "stdout",
     "output_type": "stream",
     "text": [
      "29915\r\n",
      "29916\r\n",
      "29914\r\n",
      "29915\r\n",
      "103841\r\n",
      "103841\r\n",
      "103840\r\n",
      "139365\r\n",
      "139364\r\n",
      "135641\r\n"
     ]
    }
   ],
   "source": [
    "!head /local/home/michelles/02-apcl-ddocent/29seq/samples/29seq_raw_mybaits_g95maf5q30dp20lm.fil3.DEPTH"
   ]
  },
  {
   "cell_type": "markdown",
   "metadata": {},
   "source": [
    "## Create a list of quality scores"
   ]
  },
  {
   "cell_type": "code",
   "execution_count": 13,
   "metadata": {},
   "outputs": [],
   "source": [
    "!mawk '!/#/' /local/home/michelles/02-apcl-ddocent/29seq/samples/29seq_raw_mybaits_g95maf5q30dp20lm.fil3.vcf | cut -f1,2,6 > /local/home/michelles/02-apcl-ddocent/29seq/samples/29seq_raw_mybaits_g95maf5q30dp20lm.fil3.loci.qual"
   ]
  },
  {
   "cell_type": "code",
   "execution_count": 14,
   "metadata": {
    "collapsed": true
   },
   "outputs": [
    {
     "name": "stdout",
     "output_type": "stream",
     "text": [
      "dDocent_Contig_11\t59\t164781\r\n",
      "dDocent_Contig_11\t117\t74859.4\r\n",
      "dDocent_Contig_11\t126\t86712\r\n",
      "dDocent_Contig_11\t130\t116704\r\n",
      "dDocent_Contig_107\t30\t1.28375e+06\r\n",
      "dDocent_Contig_107\t48\t2.50937e+06\r\n",
      "dDocent_Contig_107\t80\t148622\r\n",
      "dDocent_Contig_315\t18\t217205\r\n",
      "dDocent_Contig_315\t77\t1.41327e+06\r\n",
      "dDocent_Contig_315\t166\t1.18122e+06\r\n"
     ]
    }
   ],
   "source": [
    "!head /local/home/michelles/02-apcl-ddocent/29seq/samples/29seq_raw_mybaits_g95maf5q30dp20lm.fil3.loci.qual"
   ]
  },
  {
   "cell_type": "markdown",
   "metadata": {},
   "source": [
    "## Calculate mean depth"
   ]
  },
  {
   "cell_type": "code",
   "execution_count": 15,
   "metadata": {},
   "outputs": [
    {
     "name": "stdout",
     "output_type": "stream",
     "text": [
      "100982\r\n"
     ]
    }
   ],
   "source": [
    "!mawk '{ sum += $1; n++ } END { if (n > 0) print sum / n; }' /local/home/michelles/02-apcl-ddocent/29seq/samples/29seq_raw_mybaits_g95maf5q30dp20lm.fil3.DEPTH"
   ]
  },
  {
   "cell_type": "markdown",
   "metadata": {},
   "source": [
    "## Calculate mean plus 3X the square of the mean"
   ]
  },
  {
   "cell_type": "code",
   "execution_count": 22,
   "metadata": {},
   "outputs": [
    {
     "data": {
      "text/plain": [
       "101935.32995337396"
      ]
     },
     "execution_count": 22,
     "metadata": {},
     "output_type": "execute_result"
    }
   ],
   "source": [
    "100982+3*(100982**0.5)"
   ]
  },
  {
   "cell_type": "markdown",
   "metadata": {},
   "source": [
    "## Find the loci above the cutoff that do not have quality scores 2 times the depth"
   ]
  },
  {
   "cell_type": "code",
   "execution_count": 23,
   "metadata": {},
   "outputs": [],
   "source": [
    "!paste \\\n",
    "/local/home/michelles/02-apcl-ddocent/29seq/samples/29seq_raw_mybaits_g95maf5q30dp20lm.fil3.loci.qual \\\n",
    "/local/home/michelles/02-apcl-ddocent/29seq/samples/29seq_raw_mybaits_g95maf5q30dp20lm.fil3.DEPTH | \\\n",
    "mawk -v x=101935 '$4 > x' | \\\n",
    "mawk '$3 < 2 * $4' > \\\n",
    "/local/home/michelles/02-apcl-ddocent/29seq/samples/29seq_raw_mybaits_g95maf5q30dp20lm.fil3.lowQDloci"
   ]
  },
  {
   "cell_type": "markdown",
   "metadata": {},
   "source": [
    "## Remove those sites and recalculate depth across loci"
   ]
  },
  {
   "cell_type": "code",
   "execution_count": 24,
   "metadata": {},
   "outputs": [
    {
     "name": "stdout",
     "output_type": "stream",
     "text": [
      "\n",
      "VCFtools - 0.1.15\n",
      "(C) Adam Auton and Anthony Marcketta 2009\n",
      "\n",
      "Parameters as interpreted:\n",
      "\t--vcf /local/home/michelles/02-apcl-ddocent/29seq/samples/29seq_raw_mybaits_g95maf5q30dp20lm.fil3.vcf\n",
      "\t--exclude-positions /local/home/michelles/02-apcl-ddocent/29seq/samples/29seq_raw_mybaits_g95maf5q30dp20lm.fil3.lowQDloci\n",
      "\t--out seq29_mybaits_fil3\n",
      "\t--site-depth\n",
      "\n",
      "After filtering, kept 531 out of 531 Individuals\n",
      "Outputting Depth for Each Site\n",
      "After filtering, kept 953 out of a possible 999 Sites\n",
      "Run Time = 0.00 seconds\n"
     ]
    }
   ],
   "source": [
    "!vcftools \\\n",
    "--vcf /local/home/michelles/02-apcl-ddocent/29seq/samples/29seq_raw_mybaits_g95maf5q30dp20lm.fil3.vcf \\\n",
    "--site-depth \\\n",
    "--exclude-positions /local/home/michelles/02-apcl-ddocent/29seq/samples/29seq_raw_mybaits_g95maf5q30dp20lm.fil3.lowQDloci \\\n",
    "--out seq29_mybaits_fil3"
   ]
  },
  {
   "cell_type": "markdown",
   "metadata": {},
   "source": [
    "## Identified 46 sites"
   ]
  },
  {
   "cell_type": "markdown",
   "metadata": {},
   "source": [
    "## Cut the output to only depth scores"
   ]
  },
  {
   "cell_type": "code",
   "execution_count": 25,
   "metadata": {},
   "outputs": [],
   "source": [
    "!cut -f3 seq29_mybaits_fil3.ldepth > seq29_mybaits_fil3.site.depth"
   ]
  },
  {
   "cell_type": "markdown",
   "metadata": {},
   "source": [
    "## Calculate the average depth by dividing the above file by the number of individuals"
   ]
  },
  {
   "cell_type": "code",
   "execution_count": 29,
   "metadata": {},
   "outputs": [],
   "source": [
    "!mawk '!/D/' seq29_mybaits_fil3.site.depth | mawk -v x=576 '{print $1/x}' > meandepthpersite"
   ]
  },
  {
   "cell_type": "code",
   "execution_count": 38,
   "metadata": {},
   "outputs": [
    {
     "name": "stdout",
     "output_type": "stream",
     "text": [
      "/local/home/michelles/03_notebooks\n",
      "\f",
      "                                              Histogram of mean depth per site\n",
      "  Number of Occurrences\n",
      "    25 ++--+------+-------+-------+------+-------+------+-------+------+-------+-------+------+-------+------+------++\n",
      "       |   +      +       +       +      +       +      +   'meandepthpersite' using (bin($1,binwidth)):(1.0)+****** +\n",
      "       |                                                                                                             |\n",
      "       |                                                                *                                            |\n",
      "       |                                                                *                                            |\n",
      "    20 ++                                                               *                                           ++\n",
      "       |                                                                *                                            |\n",
      "       |                                                                *                                            |\n",
      "       |                                                                *           *                                |\n",
      "       |                                                           *    *           *                                |\n",
      "    15 ++                                                  *    *  *    *           *                               ++\n",
      "       |                       *                           *    *  *    *           *                                |\n",
      "       |                       *              **          **    ** *    **  ****    *                                |\n",
      "       |                       *              **          ***   ** *    **  ****    *                  *             |\n",
      "    10 ++                      *              **          ***  *** *   ***  ****  * **                 *            ++\n",
      "       |                       *              ****     ** ***  *** **  **** ***** * ** **              *             |\n",
      "       |                       *     **       ****   * ******  ******  **** ********** **         *    *             |\n",
      "       |                       *     ****   ******   * ******  ******  **** *************    **   **   *             |\n",
      "       |                       *     ****   ******   * ****** *******  ********************* **** **   *             |\n",
      "     5 ++                      *     ****   ****** *** ****** **************************************** * **         ++\n",
      "       |             *******   * * * ****   ********** ****************************************************          |\n",
      "       |       ***   *  ** **  * *** ****  *********** ****************************************************          |\n",
      "       |    ** * *****  ** **  ****************************************************************************          |\n",
      "       |   +**** **  *  **+**************+*****************************************************************  +       +\n",
      "     0 ++--+***********************************************************************************************--+------++\n",
      "           20     40      60      80    100     120    140     160    180     200     220    240     260    280     300\n",
      "                                                         Mean Depth\n",
      "\n"
     ]
    }
   ],
   "source": [
    "%%bash\n",
    "pwd\n",
    "gnuplot << \\EOF \n",
    "set terminal dumb size 120, 30\n",
    "set autoscale\n",
    "set xrange [10:300] \n",
    "unset label\n",
    "set title \"Histogram of mean depth per site\"\n",
    "set ylabel \"Number of Occurrences\"\n",
    "set xlabel \"Mean Depth\"\n",
    "binwidth=1\n",
    "bin(x,width)=width*floor(x/width) + binwidth/2.0\n",
    "set xtics 20\n",
    "plot 'meandepthpersite' using (bin($1,binwidth)):(1.0) smooth freq with boxes\n",
    "pause -1\n",
    "EOF"
   ]
  },
  {
   "cell_type": "markdown",
   "metadata": {},
   "source": [
    "## Convert variant calls to SNPs\n",
    "This will decompose complex variant calls into phased SNP and INDEL genotypes and keep the INFO flags for loci and genotypes."
   ]
  },
  {
   "cell_type": "code",
   "execution_count": 40,
   "metadata": {},
   "outputs": [],
   "source": [
    "!vcfallelicprimitives \\\n",
    "/local/home/michelles/02-apcl-ddocent/29seq/samples/29seq_raw_mybaits_g95maf5q30dp20lm.fil3.vcf \\\n",
    "--keep-info --keep-geno > \\\n",
    "/local/home/michelles/02-apcl-ddocent/29seq/samples/29seq_mybaits.prim.vcf"
   ]
  },
  {
   "cell_type": "markdown",
   "metadata": {},
   "source": [
    "## Feed this VCF file into VCFtools to remove indels."
   ]
  },
  {
   "cell_type": "code",
   "execution_count": 42,
   "metadata": {},
   "outputs": [
    {
     "name": "stdout",
     "output_type": "stream",
     "text": [
      "\n",
      "VCFtools - 0.1.15\n",
      "(C) Adam Auton and Anthony Marcketta 2009\n",
      "\n",
      "Parameters as interpreted:\n",
      "\t--vcf /local/home/michelles/02-apcl-ddocent/29seq/samples/29seq_mybaits.prim.vcf\n",
      "\t--recode-INFO-all\n",
      "\t--out /local/home/michelles/02-apcl-ddocent/29seq/samples/29seq_mybaits_SNPS\n",
      "\t--recode\n",
      "\t--remove-indels\n",
      "\n",
      "After filtering, kept 531 out of 531 Individuals\n",
      "Outputting VCF file...\n",
      "After filtering, kept 1031 out of a possible 1070 Sites\n",
      "Run Time = 2.00 seconds\n"
     ]
    }
   ],
   "source": [
    "!vcftools \\\n",
    "--vcf /local/home/michelles/02-apcl-ddocent/29seq/samples/29seq_mybaits.prim.vcf \\\n",
    "--remove-indels \\\n",
    "--recode \\\n",
    "--recode-INFO-all \\\n",
    "--out /local/home/michelles/02-apcl-ddocent/29seq/samples/29seq_mybaits_SNPS"
   ]
  },
  {
   "cell_type": "markdown",
   "metadata": {},
   "source": [
    "## Add this vcf to a master vcf of all samples to convert into a genepop and use for future analysis."
   ]
  },
  {
   "cell_type": "markdown",
   "metadata": {},
   "source": [
    "1. Combine multiple vcfs into one master vcf"
   ]
  },
  {
   "cell_type": "code",
   "execution_count": 43,
   "metadata": {},
   "outputs": [
    {
     "name": "stdout",
     "output_type": "stream",
     "text": [
      "No files to concat?\r\n",
      " at /local/opt/vcftools_0.1.11/perl/vcf-concat line 32.\r\n",
      "\tmain::error(\"No files to concat?\\x{a}\") called at /local/opt/vcftools_0.1.11/perl/vcf-concat line 75\r\n",
      "\tmain::parse_params() called at /local/opt/vcftools_0.1.11/perl/vcf-concat line 11\r\n"
     ]
    }
   ],
   "source": [
    "!/local/opt/vcftools_0.1.11/perl/vcf-concat"
   ]
  },
  {
   "cell_type": "markdown",
   "metadata": {},
   "source": [
    "Check out mean depth of sites  \n",
    "Check out difference between this bit and other bits from the past"
   ]
  }
 ],
 "metadata": {
  "kernelspec": {
   "display_name": "Python 3",
   "language": "python",
   "name": "python3"
  },
  "language_info": {
   "codemirror_mode": {
    "name": "ipython",
    "version": 3
   },
   "file_extension": ".py",
   "mimetype": "text/x-python",
   "name": "python",
   "nbconvert_exporter": "python",
   "pygments_lexer": "ipython3",
   "version": "3.6.4"
  }
 },
 "nbformat": 4,
 "nbformat_minor": 2
}
