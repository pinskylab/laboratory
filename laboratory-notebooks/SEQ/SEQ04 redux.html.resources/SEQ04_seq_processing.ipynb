{
 "cells": [
  {
   "cell_type": "markdown",
   "metadata": {},
   "source": [
    "# SEQ04 redux\n",
    "## testing the fall 2018 sequence processing method on old samples\n",
    "Because we are now using a targeted set of ~1020 contigs, we can trim, map and call SNPs on individual sequencing runs and delete the intermediate files when done."
   ]
  },
  {
   "cell_type": "markdown",
   "metadata": {},
   "source": [
    "## Prepare the directories for sequence storage"
   ]
  },
  {
   "cell_type": "code",
   "execution_count": 1,
   "metadata": {},
   "outputs": [
    {
     "name": "stdout",
     "output_type": "stream",
     "text": [
      "clownfish-ddradseq-seq04-for-222-cycles-hau8radxx_1_read_1_passed_filter.fastq.gz\r\n",
      "clownfish-ddradseq-seq04-for-222-cycles-hau8radxx_1_read_2_index_read_passed_filter.fastq.gz\r\n",
      "clownfish-ddradseq-seq04-for-222-cycles-hau8radxx_2_read_1_passed_filter.fastq.gz\r\n",
      "clownfish-ddradseq-seq04-for-222-cycles-hau8radxx_2_read_2_index_read_passed_filter.fastq.gz\r\n"
     ]
    }
   ],
   "source": [
    "!ls /local/shared/pinsky_lab/sequencing/hiseq_2014_12_19_SEQ04/"
   ]
  },
  {
   "cell_type": "markdown",
   "metadata": {},
   "source": [
    "\n",
    "## Go to the Princeton webpage to retrieve the seq data - took about 5 minutes for SEQ18 - 576 samples\n",
    "https://htseq.princeton.edu/cgi-bin/login.pl?redirect_url=https://htseq.princeton.edu/cgi-bin/dashboard.pl **done**\n",
    "* Click on the sequencing run of interest in the box on the left that says “Recently Entered Samples\"\n",
    "* In the box titled Sample Provenance, click on the link following \"This library was utilized within the following output(s):” - repeat for each lane\n",
    "* In the “Data and Statistics” box, in the bottom right corner is a green button that says “Download\"\n",
    "* click wget and then the copy button to get all files.  This will copy the wget commands for all files.\n",
    "* paste in amphiprion **in the directory you made in the previous step**"
   ]
  },
  {
   "cell_type": "markdown",
   "metadata": {},
   "source": [
    "## Make directories in personal workspace - 4 pools "
   ]
  },
  {
   "cell_type": "code",
   "execution_count": 2,
   "metadata": {},
   "outputs": [],
   "source": [
    "%%bash\n",
    "cd ~/02-apcl-ddocent\n",
    "# mkdir 04seq\n",
    "cd ./04seq/ \n",
    "# mkdir logs samples scripts\n",
    "mkdir bcsplit 01Pool 02Pool 03Pool 04Pool \n",
    "cd bcsplit/\n",
    "mkdir lane1 lane2"
   ]
  },
  {
   "cell_type": "markdown",
   "metadata": {},
   "source": [
    "## Move index files and names files from laptop to amphiprion with Fetch \n",
    "* see seq_proc.Rmd notebook in RStudio to generate index and names files for large batches of pools/samples"
   ]
  },
  {
   "cell_type": "markdown",
   "metadata": {},
   "source": [
    "## Copy barcodes files into each of the logs folders"
   ]
  },
  {
   "cell_type": "code",
   "execution_count": 4,
   "metadata": {},
   "outputs": [],
   "source": [
    "%%bash\n",
    "cd ~/02-apcl-ddocent\n",
    "# cp 16seq/logs/barcodes 04seq/logs/ "
   ]
  },
  {
   "cell_type": "markdown",
   "metadata": {},
   "source": [
    "## Run barcode splitter in lane1 folder and lane 2 folder - takes about 8 hours for 192 samples\n",
    "* Closing the notebook closes this.  Paste into terminal window.\n",
    "started 3:45pm on Friday"
   ]
  },
  {
   "cell_type": "markdown",
   "metadata": {},
   "source": [
    "cd ~/02-apcl-ddocent/04seq/bcsplit/lane1\n",
    "nohup /local/home/michelles/14_programs/paired_sequence_utils/barcode_splitter.py \\\n",
    "--bcfile ../../logs/index-seq04 --idxread 2 --suffix .fastq.gz \\\n",
    "/local/shared/pinsky_lab/sequencing/hiseq_2014_12_19_SEQ04/clownfish-ddradseq-seq04-for-222-cycles-hau8radxx_1_read_1_passed_filter.fastq.gz \\\n",
    "/local/shared/pinsky_lab/sequencing/hiseq_2014_12_19_SEQ04/clownfish-ddradseq-seq04-for-222-cycles-hau8radxx_1_read_2_index_read_passed_filter.fastq.gz &\n",
    "cd ~/02-apcl-ddocent/04seq/bcsplit/lane2\n",
    "nohup /local/home/michelles/14_programs/paired_sequence_utils/barcode_splitter.py \\\n",
    "--bcfile ../../logs/index-seq03 --idxread 2 --suffix .fastq.gz \\\n",
    "/local/shared/pinsky_lab/sequencing/hiseq_2014_12_19_SEQ04/clownfish-ddradseq-seq04-for-222-cycles-hau8radxx_2_read_1_passed_filter.fastq.gz \\\n",
    "/local/shared/pinsky_lab/sequencing/hiseq_2014_12_19_SEQ04/clownfish-ddradseq-seq04-for-222-cycles-hau8radxx_2_read_2_index_read_passed_filter.fastq.gz &"
   ]
  },
  {
   "cell_type": "markdown",
   "metadata": {},
   "source": [
    "## Check the output statistics in the nohup and move to logs with a rename"
   ]
  },
  {
   "cell_type": "code",
   "execution_count": 1,
   "metadata": {},
   "outputs": [
    {
     "name": "stdout",
     "output_type": "stream",
     "text": [
      "line: P020\tTGACCA\r\n",
      "line: P021\tACAGTG\r\n",
      "line: P022\tGCCAAT\r\n",
      "line: P023\tCAGATC\r\n",
      "P020\tTGACCA\t29582113\t21.84%\r\n",
      "P021\tACAGTG\t31882164\t23.54%\r\n",
      "P022\tGCCAAT\t37066160\t27.37%\r\n",
      "P023\tCAGATC\t32440413\t23.95%\r\n",
      "unmatched\tNone\t4455448\t3.29%\r\n"
     ]
    }
   ],
   "source": [
    "!head ~/02-apcl-ddocent/04seq/bcsplit/lane1/nohup.out"
   ]
  },
  {
   "cell_type": "code",
   "execution_count": 2,
   "metadata": {},
   "outputs": [],
   "source": [
    "!mv ~/02-apcl-ddocent/04seq/bcsplit/lane1/nohup.out ~/02-apcl-ddocent/04seq/logs/lane1.out"
   ]
  },
  {
   "cell_type": "code",
   "execution_count": 3,
   "metadata": {},
   "outputs": [
    {
     "name": "stdout",
     "output_type": "stream",
     "text": [
      "Traceback (most recent call last):\r\n",
      "  File \"/local/home/michelles/14_programs/paired_sequence_utils/barcode_splitter.py\", line 342, in <module>\r\n",
      "    sys.exit(main())\r\n",
      "  File \"/local/home/michelles/14_programs/paired_sequence_utils/barcode_splitter.py\", line 95, in main\r\n",
      "    barcode_dict = read_barcodes(options.bcfile)\r\n",
      "  File \"/local/home/michelles/14_programs/paired_sequence_utils/barcode_splitter.py\", line 203, in read_barcodes\r\n",
      "    filehandle = open(filename, 'rb')\r\n",
      "IOError: [Errno 2] No such file or directory: '../../logs/index-seq03'\r\n",
      "line: P020\tTGACCA\r\n",
      "line: P021\tACAGTG\r\n"
     ]
    }
   ],
   "source": [
    "!head ~/02-apcl-ddocent/04seq/bcsplit/lane2/nohup.out"
   ]
  },
  {
   "cell_type": "markdown",
   "metadata": {},
   "source": [
    "## Lane 2 didnt' work.  It looks like I forgot to change the index from seq03 to seq04 - rerunning in terminal"
   ]
  },
  {
   "cell_type": "markdown",
   "metadata": {},
   "source": [
    "cd ~/02-apcl-ddocent/04seq/bcsplit/lane2\n",
    "nohup /local/home/michelles/14_programs/paired_sequence_utils/barcode_splitter.py \\\n",
    "--bcfile ../../logs/index-seq04 --idxread 2 --suffix .fastq.gz \\\n",
    "/local/shared/pinsky_lab/sequencing/hiseq_2014_12_19_SEQ04/clownfish-ddradseq-seq04-for-222-cycles-hau8radxx_2_read_1_passed_filter.fastq.gz \\\n",
    "/local/shared/pinsky_lab/sequencing/hiseq_2014_12_19_SEQ04/clownfish-ddradseq-seq04-for-222-cycles-hau8radxx_2_read_2_index_read_passed_filter.fastq.gz &"
   ]
  },
  {
   "cell_type": "code",
   "execution_count": 4,
   "metadata": {},
   "outputs": [],
   "source": [
    "!mv ~/02-apcl-ddocent/03seq/bcsplit/lane2/nohup.out ~/02-apcl-ddocent/03seq/logs/lane2.out"
   ]
  },
  {
   "cell_type": "code",
   "execution_count": 4,
   "metadata": {},
   "outputs": [
    {
     "name": "stdout",
     "output_type": "stream",
     "text": [
      "IOError: [Errno 2] No such file or directory: '../../logs/index-seq03'\r\n",
      "line: P020\tTGACCA\r\n",
      "line: P021\tACAGTG\r\n",
      "line: P022\tGCCAAT\r\n",
      "line: P023\tCAGATC\r\n",
      "P020\tTGACCA\t29022366\t21.90%\r\n",
      "P021\tACAGTG\t31268305\t23.59%\r\n",
      "P022\tGCCAAT\t36362827\t27.43%\r\n",
      "P023\tCAGATC\t31832369\t24.02%\r\n",
      "unmatched\tNone\t4057433\t3.06%\r\n"
     ]
    }
   ],
   "source": [
    "!tail ~/02-apcl-ddocent/04seq/bcsplit/lane2/nohup.out"
   ]
  },
  {
   "cell_type": "markdown",
   "metadata": {},
   "source": [
    "## Concatenate the results in the bcsplit folder - took about 10 minutes\n",
    "For large batches, generated the command lines in a script in the seq_proc.Rmd notebook and output the lines into files called SEQXX_cat_all.sh to be copy and pasted here\n"
   ]
  },
  {
   "cell_type": "code",
   "execution_count": 5,
   "metadata": {},
   "outputs": [],
   "source": [
    "%%bash\n",
    "cd ~/02-apcl-ddocent/04seq/bcsplit/\n",
    "cat ./lane1/P020-read-1.fastq.gz ./lane2/P020-read-1.fastq.gz > ../01Pool/P020.fastq.gz\n",
    "cat ./lane1/P021-read-1.fastq.gz ./lane2/P021-read-1.fastq.gz > ../02Pool/P021.fastq.gz\n",
    "cat ./lane1/P022-read-1.fastq.gz ./lane2/P022-read-1.fastq.gz > ../03Pool/P022.fastq.gz\n",
    "cat ./lane1/P023-read-1.fastq.gz ./lane2/P023-read-1.fastq.gz > ../04Pool/P023.fastq.gz"
   ]
  },
  {
   "cell_type": "markdown",
   "metadata": {},
   "source": [
    "## Run process radtags with script - takes ~2 hours for 192 samples\n",
    "* Had to nano the script to point to the correct place and changed my email to gmail so I will get it on my phone (if it sends)\n",
    "* If this notebook closes, these processes stop - **ended up pasting this into a terminal window** because I was afraid the network would drop and the process would stop\n",
    "\n",
    "* Started at 1:40pm on Sunday\n",
    "* Finished between 3:12 and 3:30pm on Sunday"
   ]
  },
  {
   "cell_type": "markdown",
   "metadata": {},
   "source": [
    "%%bash\n",
    "cd ~/02-apcl-ddocent/04seq/01Pool/\n",
    "nohup ../scripts/20process.sh &\n",
    "cd ~/02-apcl-ddocent/04seq/02Pool/\n",
    "nohup ../scripts/21process.sh &\n",
    "cd ~/02-apcl-ddocent/04seq/03Pool/\n",
    "nohup ../scripts/22process.sh &\n",
    "cd ~/02-apcl-ddocent/04seq/04Pool/\n",
    "nohup ../scripts/23process.sh &"
   ]
  },
  {
   "cell_type": "markdown",
   "metadata": {},
   "source": [
    "## Move the process_radtags logs to the logs folder - wrote command lines for large batches in seq_proc.Rmd notebook and saved the lines in files called SEQXX-move_radlogs.sh \n",
    "\n",
    "The script did this for us so we don't have to"
   ]
  },
  {
   "cell_type": "code",
   "execution_count": null,
   "metadata": {},
   "outputs": [],
   "source": [
    "#%%bash\n",
    "#mv 01Pool/process_radtags.log ./logs/processP012.log\n",
    "#mv 02Pool/process_radtags.log ./logs/processP013.log\n",
    "#mv 03Pool/process_radtags.log ./logs/processP014.log\n",
    "#mv 04Pool/process_radtags.log ./logs/processP015.log"
   ]
  },
  {
   "cell_type": "code",
   "execution_count": 1,
   "metadata": {},
   "outputs": [
    {
     "name": "stdout",
     "output_type": "stream",
     "text": [
      "04seq-blacklist.txt  22process.out.tsv\tnames-21       sstacks.out\r\n",
      "04seq-loci.txt\t     23process.out\tnames-22       stacks\r\n",
      "20process.out\t     23process.out.tsv\tnames-23       unpaired\r\n",
      "20process.out.tsv    barcodes\t\tnames-seq04    ustacks.out\r\n",
      "21process.out\t     index-seq04\trxsstacks.out\r\n",
      "21process.out.tsv    lane1.out\t\trxstacks\r\n",
      "22process.out\t     names-20\t\trxstacks.out\r\n"
     ]
    }
   ],
   "source": [
    "!ls logs"
   ]
  },
  {
   "cell_type": "markdown",
   "metadata": {},
   "source": [
    "## Run the readprocesslog.py script to convert the process log into a tsv that can be imported into the database through R"
   ]
  },
  {
   "cell_type": "code",
   "execution_count": 2,
   "metadata": {},
   "outputs": [
    {
     "name": "stdout",
     "output_type": "stream",
     "text": [
      "AAACAC\t230775\t45412\t20229\t164312\n",
      "AAACGA\t216946\t43036\t16438\t156695\n",
      "AAAGTC\t1383742\t320013\t83795\t974936\n",
      "AACGGT\t131282\t47024\t7746\t76148\n",
      "AACTTC\t372311\t91839\t25008\t254187\n",
      "TGCTCA\t229789\t54241\t14899\t159829\n",
      "AAGAAC\t236066\t48994\t19375\t166846\n",
      "AATGTG\t1179422\t224713\t80241\t870088\n",
      "ACATGT\t296670\t98325\t21399\t176111\n",
      "ACCAAA\t212041\t51471\t14981\t144901\n",
      "ACGATA\t173775\t47353\t11240\t114558\n",
      "ACGTTT\t202158\t54541\t13941\t133011\n",
      "ACTAGG\t1445289\t300476\t92299\t1047308\n",
      "ACTCCA\t1271211\t304983\t90246\t871818\n",
      "AGACTC\t1351967\t281713\t97113\t968372\n",
      "AGCATT\t1648860\t407639\t119349\t1116531\n",
      "AGGAGA\t1186321\t259328\t83111\t839822\n",
      "AGTAAG\t1476812\t363969\t105571\t1002275\n",
      "AGTCCT\t1325855\t333253\t89431\t898805\n",
      "AGTTAC\t1105654\t234961\t76095\t790694\n",
      "ATAACC\t1050365\t240617\t81560\t724659\n",
      "ATCGCA\t1143639\t283407\t74369\t782000\n",
      "ATCTCG\t1607419\t370608\t111093\t1120050\n",
      "ATGGAG\t1066746\t214178\t76557\t772188\n",
      "ATGTCC\t1680513\t354199\t127000\t1193397\n",
      "CAATTG\t1341998\t374040\t83485\t880098\n",
      "CAGAGT\t1554875\t345011\t102306\t1101903\n",
      "CATCAG\t1648420\t372211\t111645\t1158600\n",
      "CATCTC\t1691760\t359993\t122879\t1202864\n",
      "CCACTT\t1976901\t395453\t128128\t1446024\n",
      "CCCATA\t1760349\t373255\t119456\t1261372\n",
      "CCTGAA\t1580765\t347322\t105247\t1122622\n",
      "CGAAAC\t1421648\t308068\t105649\t1002936\n",
      "CGAATG\t1369727\t301346\t97767\t965914\n",
      "GACGTT\t1753482\t358456\t127738\t1260814\n",
      "GATACA\t1150769\t245017\t80935\t820674\n",
      "GCAGAA\t1456128\t286791\t95798\t1068199\n",
      "GGGATA\t1807865\t403099\t119062\t1279222\n",
      "GGTGAA\t1604277\t300255\t101903\t1196020\n",
      "GTAGCT\t1269497\t256758\t86884\t921156\n",
      "GTCTAT\t1614978\t331135\t114795\t1163227\n",
      "GTTCAG\t1755888\t408713\t121869\t1219166\n",
      "TAAGAC\t1577113\t348704\t105115\t1117707\n",
      "TACCAG\t1273016\t251172\t91235\t925933\n",
      "TCAATC\t1372655\t263800\t96892\t1006789\n",
      "TCCAAA\t1330697\t267870\t96790\t961094\n",
      "TCTGCT\t1085906\t288146\t65235\t728833\n",
      "TCTTAG\t1259715\t249469\t94834\t910933\n",
      "AAACAC\t1201005\t241752\t85591\t869158\n",
      "AAACGA\t1224132\t245064\t80488\t893948\n",
      "AAAGTC\t726251\t142391\t53986\t527207\n",
      "AACGGT\t1386447\t264805\t86866\t1029535\n",
      "AACTTC\t1297299\t254589\t85921\t951963\n",
      "TGCTCA\t1355000\t264996\t81101\t1003594\n",
      "AAGAAC\t1631821\t308215\t97443\t1219927\n",
      "AATGTG\t1039577\t195588\t62179\t777779\n",
      "ACATGT\t1272322\t262756\t77243\t927512\n",
      "ACCAAA\t1383192\t265207\t89014\t1023850\n",
      "ACGATA\t1658149\t316837\t103716\t1230968\n",
      "ACGTTT\t1362270\t263045\t81764\t1012130\n",
      "ACTAGG\t1129755\t225126\t70541\t829790\n",
      "ACTCCA\t954638\t191130\t63509\t696462\n",
      "AGACTC\t1249567\t243476\t83416\t918075\n",
      "AGCATT\t1180524\t236919\t74001\t865401\n",
      "AGGAGA\t1025152\t202391\t64706\t754177\n",
      "AGTAAG\t803056\t163442\t56417\t580242\n",
      "AGTCCT\t909165\t190374\t60068\t655451\n",
      "AGTTAC\t1069979\t205164\t66463\t794349\n",
      "ATAACC\t675373\t137635\t48418\t486808\n",
      "ATCGCA\t1233768\t229674\t79575\t919665\n",
      "ATCTCG\t805423\t158070\t58228\t586095\n",
      "ATGGAG\t1030707\t203858\t65412\t757562\n",
      "ATGTCC\t985823\t194611\t64766\t722948\n",
      "CAATTG\t1703513\t369906\t105676\t1221645\n",
      "CAGAGT\t1164535\t231413\t76718\t852126\n",
      "CATCAG\t1168068\t229429\t73034\t861291\n",
      "CATCTC\t1080821\t207554\t72257\t797055\n",
      "CCACTT\t848490\t168989\t57680\t618584\n",
      "CCCATA\t1376455\t263458\t80827\t1027022\n",
      "CCTGAA\t1353843\t253768\t81550\t1013389\n",
      "CGAAAC\t1085671\t207317\t77794\t796547\n",
      "CGAATG\t1934099\t382866\t134032\t1410022\n",
      "GACGTT\t1580451\t298610\t104193\t1171579\n",
      "GATACA\t1641835\t319964\t110430\t1205210\n",
      "GCAGAA\t1398178\t264507\t98701\t1029767\n",
      "GGGATA\t1567388\t306662\t110098\t1145012\n",
      "GGTGAA\t1875742\t344567\t128818\t1395349\n",
      "GTAGCT\t1454875\t276677\t96888\t1075781\n",
      "GTCTAT\t1759517\t339458\t120342\t1293033\n",
      "GTTCAG\t1876876\t369578\t128203\t1372219\n",
      "TAAGAC\t1299180\t244957\t94238\t955182\n",
      "TACCAG\t1501485\t294691\t99866\t1101303\n",
      "TCAATC\t921427\t181425\t61710\t674847\n",
      "TCCAAA\t1326421\t264757\t95346\t961340\n",
      "TCTGCT\t1447227\t275548\t95037\t1071061\n",
      "TCTTAG\t1459747\t292751\t105843\t1055606\n",
      "AAACAC\t1536408\t303813\t165375\t1062167\n",
      "AAACGA\t1381892\t270596\t139492\t967082\n",
      "AAAGTC\t1157716\t228512\t125123\t800319\n",
      "AACGGT\t1598214\t310935\t157002\t1124837\n",
      "AACTTC\t1444611\t285311\t150908\t1003491\n",
      "TGCTCA\t1604545\t329039\t151542\t1118430\n",
      "AAGAAC\t1374334\t272203\t135063\t962554\n",
      "AATGTG\t1530270\t305623\t147890\t1071807\n",
      "ACATGT\t1705526\t370759\t168110\t1161072\n",
      "ACCAAA\t1588452\t322501\t170920\t1089859\n",
      "ACGATA\t1231562\t246679\t107936\t872747\n",
      "ACGTTT\t527500\t110239\t84589\t331211\n",
      "ACTAGG\t1358090\t274348\t121701\t957457\n",
      "ACTCCA\t1109641\t272952\t106191\t727013\n",
      "AGACTC\t1582909\t313654\t129992\t1133834\n",
      "AGCATT\t1771511\t400856\t131569\t1233263\n",
      "AGGAGA\t1992502\t424946\t158653\t1402001\n",
      "AGTAAG\t1945282\t402118\t154419\t1382047\n",
      "AGTCCT\t1761328\t421722\t162231\t1171779\n",
      "AGTTAC\t1426374\t293018\t127251\t1001364\n",
      "ATAACC\t1781903\t370676\t147401\t1257650\n",
      "ATCGCA\t2184030\t432055\t169488\t1574582\n",
      "ATCTCG\t1855784\t379417\t154851\t1315275\n",
      "ATGGAG\t1648696\t369858\t134221\t1139243\n",
      "ATGTCC\t1668566\t348258\t125285\t1189455\n",
      "CAATTG\t1965662\t760974\t117083\t1082109\n",
      "CAGAGT\t1284467\t285845\t90950\t903285\n",
      "CATCAG\t1953988\t425239\t144871\t1377280\n",
      "CATCTC\t1835202\t378961\t141946\t1308042\n",
      "CCACTT\t1734356\t404236\t126769\t1197749\n",
      "CCCATA\t1461705\t316286\t113475\t1027196\n",
      "CCTGAA\t918603\t185876\t81755\t647841\n",
      "CGAAAC\t904844\t184999\t78979\t637764\n",
      "CGAATG\t653512\t164096\t48112\t439134\n",
      "GACGTT\t1796305\t387253\t136216\t1266590\n",
      "GATACA\t1546919\t349460\t133767\t1058482\n",
      "GCAGAA\t1768128\t357861\t134717\t1269232\n",
      "GGGATA\t1363962\t264297\t113746\t981200\n",
      "GGTGAA\t1393761\t255397\t105713\t1027682\n",
      "GTAGCT\t1385885\t259205\t107937\t1013855\n",
      "GTCTAT\t1525117\t307042\t147044\t1065695\n",
      "GTTCAG\t1697251\t343552\t145009\t1203009\n",
      "TAAGAC\t1961860\t364301\t159598\t1430960\n",
      "TACCAG\t841078\t173359\t74501\t590464\n",
      "TCAATC\t1019292\t200156\t85020\t730578\n",
      "TCCAAA\t1317382\t253588\t110542\t948617\n",
      "TCTGCT\t978510\t187949\t89551\t697558\n",
      "TCTTAG\t985400\t195349\t82434\t704113\n",
      "AAACAC\t1603693\t309328\t118912\t1169375\n",
      "AAACGA\t937376\t178835\t63685\t691345\n",
      "AAAGTC\t1830884\t333707\t132573\t1357640\n",
      "AACGGT\t1364388\t264597\t102554\t992328\n",
      "AACTTC\t1342609\t257300\t104924\t975452\n",
      "TGCTCA\t1465084\t288788\t107451\t1063697\n",
      "AAGAAC\t1684959\t324277\t125119\t1229466\n",
      "AATGTG\t1379265\t263577\t96291\t1014390\n",
      "ACATGT\t1680247\t348777\t111671\t1213697\n",
      "ACCAAA\t1632415\t313009\t124201\t1189201\n",
      "ACGATA\t1479944\t293277\t113368\t1067985\n",
      "ACGTTT\t1627266\t320809\t122748\t1177972\n",
      "ACTAGG\t1631784\t324093\t121295\t1180577\n",
      "ACTCCA\t1458540\t278661\t111413\t1063212\n",
      "AGACTC\t1571325\t297282\t121263\t1147216\n",
      "AGCATT\t1731507\t351763\t136351\t1237322\n",
      "AGGAGA\t1663934\t319930\t121618\t1216389\n",
      "AGTAAG\t1334800\t256324\t102423\t971284\n",
      "AGTCCT\t1521563\t312973\t117524\t1085693\n",
      "AGTTAC\t1715203\t325038\t131945\t1252029\n",
      "ATAACC\t1531530\t301413\t122778\t1101793\n",
      "ATCGCA\t1782887\t326766\t136748\t1312894\n",
      "ATCTCG\t1408405\t268664\t109254\t1025343\n",
      "ATGGAG\t1687707\t318283\t116686\t1246581\n",
      "ATGTCC\t1536958\t290287\t113003\t1127920\n",
      "CAATTG\t1293431\t286464\t81663\t920800\n",
      "CAGAGT\t1381288\t267973\t99564\t1008913\n",
      "CATCAG\t1335544\t284837\t101264\t944827\n",
      "CATCTC\t224755\t45269\t41022\t137833\n",
      "CCACTT\t1468704\t287506\t105574\t1070255\n",
      "CCCATA\t1638635\t318602\t121389\t1192606\n",
      "CCTGAA\t5795\t1690\t1317\t2782\n",
      "CGAAAC\t1501600\t286127\t119892\t1090299\n",
      "CGAATG\t1349204\t272169\t101452\t970863\n",
      "GACGTT\t706453\t146796\t67551\t489716\n",
      "GATACA\t1037701\t209800\t80661\t743633\n",
      "GCAGAA\t1372246\t258591\t98275\t1010175\n",
      "GGGATA\t1457813\t282651\t104875\t1064972\n",
      "GGTGAA\t1307783\t239813\t89733\t973215\n",
      "GTAGCT\t739343\t146396\t71271\t519154\n",
      "GTCTAT\t801808\t163230\t74748\t561087\n",
      "GTTCAG\t637463\t131764\t53687\t449795\n",
      "TAAGAC\t1347982\t249694\t100716\t992742\n",
      "TACCAG\t1009108\t196218\t72282\t736884\n",
      "TCAATC\t1046885\t200414\t76013\t766573\n",
      "TCCAAA\t770049\t156679\t71728\t538711\n",
      "TCTGCT\t1377078\t258494\t104518\t1008645\n",
      "TCTTAG\t76578\t16655\t22113\t37649\n"
     ]
    }
   ],
   "source": [
    "%%bash\n",
    "cd ~/02-apcl-ddocent/04seq/01Pool/\n",
    "readprocesslog.py ../logs/20process.out\n",
    "cd ~/02-apcl-ddocent/04seq/02Pool/\n",
    "readprocesslog.py ../logs/21process.out\n",
    "cd ~/02-apcl-ddocent/04seq/03Pool/\n",
    "readprocesslog.py ../logs/22process.out\n",
    "cd ~/02-apcl-ddocent/04seq/04Pool/\n",
    "readprocesslog.py ../logs/23process.out"
   ]
  },
  {
   "cell_type": "markdown",
   "metadata": {},
   "source": [
    "## Move the newly created tsvs to the laptop with fetch \n",
    "* import them into the database using the R notebook script read_to_db.Rmd"
   ]
  },
  {
   "cell_type": "markdown",
   "metadata": {},
   "source": [
    "## Rename the sample files\n",
    "* recreate the names files using only the ligation id\n",
    "* current names files have sample id included\n",
    "* using the seq_proc.Rmd script in the methods repository > procedural notebooks"
   ]
  },
  {
   "cell_type": "code",
   "execution_count": 9,
   "metadata": {},
   "outputs": [
    {
     "name": "stdout",
     "output_type": "stream",
     "text": [
      "APCL_L0686\n",
      "TCTTAG\n",
      "\n",
      "\n",
      "\n",
      "\n",
      "\n",
      "\n"
     ]
    },
    {
     "name": "stderr",
     "output_type": "stream",
     "text": [
      "cut: ../logs/names_21.tsv: No such file or directory\n",
      "cut: ../logs/names_21.tsv: No such file or directory\n",
      "wc: ../logs/names_21.tsv: No such file or directory\n",
      "mv: cannot stat `APCL*': No such file or directory\n",
      "cut: ../logs/names_22.tsv: No such file or directory\n",
      "cut: ../logs/names_22.tsv: No such file or directory\n",
      "wc: ../logs/names_22.tsv: No such file or directory\n",
      "mv: cannot stat `APCL*': No such file or directory\n",
      "cut: ../logs/names_23.tsv: No such file or directory\n",
      "cut: ../logs/names_23.tsv: No such file or directory\n",
      "wc: ../logs/names_23.tsv: No such file or directory\n",
      "mv: cannot stat `APCL*': No such file or directory\n"
     ]
    }
   ],
   "source": [
    "%%bash\n",
    "cd ~/02-apcl-ddocent/04seq/\n",
    "cd 01Pool/\n",
    "sh rename.for.dDocent_se_gz ../logs/names_020.tsv\n",
    "mv APCL* /data/apcl/04seq/samples/\n",
    "cd ~/02-apcl-ddocent/04seq/02Pool/\n",
    "sh rename.for.dDocent_se_gz ../logs/names_21.tsv\n",
    "mv APCL* /data/apcl/04seq/samples/\n",
    "cd ~/02-apcl-ddocent/04seq/03Pool/\n",
    "sh rename.for.dDocent_se_gz ../logs/names_22.tsv\n",
    "mv APCL* /data/apcl/04seq/samples/\n",
    "cd ~/02-apcl-ddocent/04seq/04Pool/\n",
    "sh rename.for.dDocent_se_gz ../logs/names_23.tsv\n",
    "mv APCL* /data/apcl/04seq/samples/"
   ]
  },
  {
   "cell_type": "code",
   "execution_count": 21,
   "metadata": {},
   "outputs": [
    {
     "name": "stdout",
     "output_type": "stream",
     "text": [
      "/local/home/michelles/02-apcl-ddocent/04seq/02Pool\n",
      "APCL_L0734\n",
      "TCTTAG\n",
      "\n",
      "\n",
      "APCL_L0827\n",
      "TCAATC\n"
     ]
    },
    {
     "name": "stderr",
     "output_type": "stream",
     "text": [
      "cut: ./logs/names_022.tsv: No such file or directory\n",
      "cut: ./logs/names_022.tsv: No such file or directory\n",
      "wc: ./logs/names_022.tsv: No such file or directory\n",
      "mv: cannot stat `APCL*': No such file or directory\n"
     ]
    }
   ],
   "source": [
    "%%bash\n",
    "cd ~/02-apcl-ddocent/04seq/02Pool/\n",
    "pwd\n",
    "sh rename.for.dDocent_se_gz ../logs/names_021.tsv\n",
    "mv APCL* /data/apcl/04seq/samples/\n",
    "cd ~/02-apcl-ddocent/04seq/03Pool/\n",
    "sh rename.for.dDocent_se_gz ./logs/names_022.tsv\n",
    "mv APCL* /data/apcl/04seq/samples/\n",
    "cd ~/02-apcl-ddocent/04seq/04Pool/\n",
    "sh rename.for.dDocent_se_gz ../logs/names_023.tsv\n",
    "mv APCL* /data/apcl/04seq/samples/"
   ]
  },
  {
   "cell_type": "code",
   "execution_count": 25,
   "metadata": {},
   "outputs": [
    {
     "name": "stdout",
     "output_type": "stream",
     "text": [
      "APCL_L0782\n",
      "TCTTAG\n"
     ]
    }
   ],
   "source": [
    "%%bash\n",
    "cd ~/02-apcl-ddocent/04seq/03Pool/\n",
    "sh rename.for.dDocent_se_gz ../logs/names_022.tsv\n",
    "mv APCL* /data/apcl/04seq/samples/"
   ]
  },
  {
   "cell_type": "markdown",
   "metadata": {},
   "source": [
    "## Once all of the samples have been moved, delete the pool directories"
   ]
  },
  {
   "cell_type": "code",
   "execution_count": 26,
   "metadata": {},
   "outputs": [],
   "source": [
    "!rm -r ~/02-apcl-ddocent/04seq/*Pool"
   ]
  },
  {
   "cell_type": "markdown",
   "metadata": {},
   "source": [
    "## Identify regenotyped samples, cat and move them."
   ]
  },
  {
   "cell_type": "markdown",
   "metadata": {},
   "source": [
    "* using the R script cat_regenos.Rmd\n",
    "* files were all cat'd during seq28"
   ]
  },
  {
   "cell_type": "markdown",
   "metadata": {},
   "source": [
    "## Copy reference.fasta over from jonsfiles"
   ]
  },
  {
   "cell_type": "code",
   "execution_count": 27,
   "metadata": {},
   "outputs": [],
   "source": [
    "% cp /local/home/michelles/02-apcl-ddocent/jonsfiles/reference.fasta /data/apcl/04seq/samples"
   ]
  },
  {
   "cell_type": "markdown",
   "metadata": {},
   "source": [
    "## Wait for SEQ03 and SEQ05 to be ready and trim, map, and call SNPS together."
   ]
  },
  {
   "cell_type": "markdown",
   "metadata": {},
   "source": [
    "## Trim, map , and call SNPs using dDocent\n",
    "for this phase, dDocent will ask questions.  \n",
    "\n",
    "* Are the number of samples correct?  \n",
    "\n",
    "yes  \n",
    "\n",
    "* Maximum number of processors to use for this analysis  \n",
    "\n",
    "This depends on how many people are trying to use amphiprion right now.  The trim and map section isn't too intensive so it should be ok to use alot.  I used 30 for SEQ18 - 576 samples  \n",
    "\n",
    "30  \n",
    "\n",
    "* Maximum memory  \n",
    "\n",
    "Again, consider who else is using the machine, for SEQ18 - 576 samples I used 150  \n",
    "\n",
    "150  \n",
    "\n",
    "* Quality trim?  \n",
    "\n",
    "yes  \n",
    "\n",
    "* Perform assembly?  \n",
    "\n",
    "no - this is for creating the reference originally  \n",
    "\n",
    "* Map reads?  \n",
    "\n",
    "yes  \n",
    "\n",
    "* Adjust default parameters  \n",
    "\n",
    "default match score is 1, default mismatch is 4, gap penalty is 6 - I used defaults for all  \n",
    "\n",
    "* call SNPs  \n",
    "\n",
    "yes  \n",
    "\n",
    "* enter email address to be notified when it is done running"
   ]
  },
  {
   "cell_type": "code",
   "execution_count": null,
   "metadata": {},
   "outputs": [
    {
     "name": "stdout",
     "output_type": "stream",
     "text": [
      "dDocent 2.5.5 \n",
      "\n",
      "Contact jpuritz@uri.edu with any problems \n",
      "\n",
      " \n",
      "Checking for required software\n",
      "/local/home/michelles/14_programs/dDocent/dDocent: line 84: [: 1.0-r82: integer expression expected\n",
      "\n",
      "All required software is installed!\n",
      "\n",
      "dDocent run started Wed Oct 3 17:11:27 EDT 2018 \n",
      "\n",
      "0 individuals are detected. Is this correct? Enter yes or no and press [ENTER]\n"
     ]
    }
   ],
   "source": [
    "!dDocent"
   ]
  },
  {
   "cell_type": "markdown",
   "metadata": {},
   "source": [
    "## Combine TotalRawSNPs into master SNP doc for further analysis."
   ]
  },
  {
   "cell_type": "code",
   "execution_count": null,
   "metadata": {},
   "outputs": [],
   "source": []
  }
 ],
 "metadata": {
  "celltoolbar": "Raw Cell Format",
  "kernelspec": {
   "display_name": "Python 3",
   "language": "python",
   "name": "python3"
  },
  "language_info": {
   "codemirror_mode": {
    "name": "ipython",
    "version": 3
   },
   "file_extension": ".py",
   "mimetype": "text/x-python",
   "name": "python",
   "nbconvert_exporter": "python",
   "pygments_lexer": "ipython3",
   "version": "3.6.4"
  }
 },
 "nbformat": 4,
 "nbformat_minor": 2
}
