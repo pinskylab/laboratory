{
 "cells": [
  {
   "cell_type": "markdown",
   "metadata": {},
   "source": [
    "# SEQ08 redux\n",
    "## testing the fall 2018 sequence processing method on old samples\n",
    "Because we are now using a targeted set of ~1020 contigs, we can trim, map and call SNPs on individual sequencing runs and delete the intermediate files when done."
   ]
  },
  {
   "cell_type": "markdown",
   "metadata": {},
   "source": [
    "## Prepare the directories for sequence storage"
   ]
  },
  {
   "cell_type": "code",
   "execution_count": 1,
   "metadata": {},
   "outputs": [
    {
     "name": "stdout",
     "output_type": "stream",
     "text": [
      "clownfish-ddradseq-seq08-for-231-cycles-h3mgvbcxx_1_read_1_passed_filter.fastq.gz\r\n",
      "clownfish-ddradseq-seq08-for-231-cycles-h3mgvbcxx_1_read_2_index_read_passed_filter.fastq.gz\r\n",
      "clownfish-ddradseq-seq08-for-231-cycles-h3mgvbcxx_1_read_3_index_read_passed_filter.fastq.gz\r\n",
      "clownfish-ddradseq-seq08-for-231-cycles-h3mgvbcxx_2_read_1_passed_filter.fastq.gz\r\n",
      "clownfish-ddradseq-seq08-for-231-cycles-h3mgvbcxx_2_read_2_index_read_passed_filter.fastq.gz\r\n",
      "clownfish-ddradseq-seq08-for-231-cycles-h3mgvbcxx_2_read_3_index_read_passed_filter.fastq\r\n",
      "namelist\r\n"
     ]
    }
   ],
   "source": [
    "!ls /local/shared/pinsky_lab/sequencing/hiseq_2015_05_11_SEQ08/"
   ]
  },
  {
   "cell_type": "markdown",
   "metadata": {},
   "source": [
    "\n",
    "## Go to the Princeton webpage to retrieve the seq data - took about 5 minutes for SEQ18 - 576 samples\n",
    "https://htseq.princeton.edu/cgi-bin/login.pl?redirect_url=https://htseq.princeton.edu/cgi-bin/dashboard.pl **done**\n",
    "* Click on the sequencing run of interest in the box on the left that says “Recently Entered Samples\"\n",
    "* In the box titled Sample Provenance, click on the link following \"This library was utilized within the following output(s):” - repeat for each lane\n",
    "* In the “Data and Statistics” box, in the bottom right corner is a green button that says “Download\"\n",
    "* click wget and then the copy button to get all files.  This will copy the wget commands for all files.\n",
    "* paste in amphiprion **in the directory you made in the previous step**"
   ]
  },
  {
   "cell_type": "markdown",
   "metadata": {},
   "source": [
    "## Make directories in personal workspace - 4 pools "
   ]
  },
  {
   "cell_type": "code",
   "execution_count": 2,
   "metadata": {},
   "outputs": [
    {
     "name": "stderr",
     "output_type": "stream",
     "text": [
      "mkdir: cannot create directory `bcsplit': File exists\n",
      "mkdir: cannot create directory `01Pool': File exists\n",
      "mkdir: cannot create directory `02Pool': File exists\n",
      "mkdir: cannot create directory `03Pool': File exists\n",
      "mkdir: cannot create directory `04Pool': File exists\n",
      "mkdir: cannot create directory `lane1': File exists\n",
      "mkdir: cannot create directory `lane2': File exists\n"
     ]
    }
   ],
   "source": [
    "%%bash\n",
    "cd /data/apcl\n",
    "# mkdir 04seq\n",
    "cd 08seq/ \n",
    "# mkdir logs samples scripts\n",
    "mkdir bcsplit 01Pool 02Pool 03Pool 04Pool \n",
    "cd bcsplit/\n",
    "mkdir lane1 lane2"
   ]
  },
  {
   "cell_type": "code",
   "execution_count": 3,
   "metadata": {},
   "outputs": [
    {
     "name": "stdout",
     "output_type": "stream",
     "text": [
      "01Pool\t02Pool\t03Pool\t04Pool\tbcsplit  samples\r\n"
     ]
    }
   ],
   "source": [
    "!ls /data/apcl/08seq/"
   ]
  },
  {
   "cell_type": "markdown",
   "metadata": {},
   "source": [
    "** If the logs and scripts directories aren't there, move them now **"
   ]
  },
  {
   "cell_type": "code",
   "execution_count": 4,
   "metadata": {},
   "outputs": [
    {
     "name": "stdout",
     "output_type": "stream",
     "text": [
      "08seq-blacklist.txt  31process.out.tsv\tbarcodes     names_33\t    sstacks.out\r\n",
      "08seq-loci.txt\t     32process.out\tindex-seq08  names-seq08    stacks\r\n",
      "30process.out\t     32process.out.tsv\tnames_30     rxsstacks.out  unpaired\r\n",
      "30process.out.tsv    33process.out\tnames_31     rxstacks\t    ustacks.out\r\n",
      "31process.out\t     33process.out.tsv\tnames_32     rxstacks.out\r\n"
     ]
    }
   ],
   "source": [
    "!cp -r ~/02-apcl-ddocent/08seq/logs /data/apcl/08seq/\n",
    "!cp -r ~/02-apcl-ddocent/08seq/scripts /data/apcl/08seq/\n",
    "!ls /data/apcl/08seq/logs"
   ]
  },
  {
   "cell_type": "code",
   "execution_count": 5,
   "metadata": {},
   "outputs": [
    {
     "name": "stdout",
     "output_type": "stream",
     "text": [
      "rm: cannot remove `/data/apcl/08seq/logs/rxstacks': Is a directory\r\n"
     ]
    }
   ],
   "source": [
    "!rm /data/apcl/08seq/logs/08seq-blacklist.txt /data/apcl/08seq/logs/08seq-loci.txt /data/apcl/08seq/logs/rxsstacks.out /data/apcl/08seq/logs/rxstacks /data/apcl/08seq/logs/rxstacks.out "
   ]
  },
  {
   "cell_type": "markdown",
   "metadata": {},
   "source": [
    "## Make sure index file is present\n",
    "* see seq_proc.Rmd notebook in RStudio to generate index and names files for large batches of pools/samples"
   ]
  },
  {
   "cell_type": "markdown",
   "metadata": {},
   "source": [
    "## Make sure barcodes file is present"
   ]
  },
  {
   "cell_type": "markdown",
   "metadata": {},
   "source": [
    "## Run barcode splitter in lane1 folder and lane 2 folder - takes about 8 hours for 192 samples\n",
    "* Closing the notebook closes this.  \n",
    "* Paste into terminal window.\n",
    "* started 11:30am on Monday"
   ]
  },
  {
   "cell_type": "code",
   "execution_count": null,
   "metadata": {},
   "outputs": [],
   "source": [
    "cd /data/apcl/08seq/bcsplit/lane1\n",
    "nohup /local/home/michelles/14_programs/paired_sequence_utils/barcode_splitter.py \\\n",
    "--bcfile ../../logs/index-seq08 --idxread 2 --suffix .fastq.gz \\\n",
    "/local/shared/pinsky_lab/sequencing/hiseq_2015_05_11_SEQ08/clownfish-ddradseq-seq08-for-231-cycles-h3mgvbcxx_1_read_1_passed_filter.fastq.gz \\\n",
    "/local/shared/pinsky_lab/sequencing/hiseq_2015_05_11_SEQ08/clownfish-ddradseq-seq08-for-231-cycles-h3mgvbcxx_1_read_2_index_read_passed_filter.fastq.gz &\n",
    "\n",
    "cd /data/apcl/08seq/bcsplit/lane2\n",
    "nohup /local/home/michelles/14_programs/paired_sequence_utils/barcode_splitter.py \\\n",
    "--bcfile ../../logs/index-seq08 --idxread 2 --suffix .fastq.gz \\\n",
    "/local/shared/pinsky_lab/sequencing/hiseq_2015_05_11_SEQ08/clownfish-ddradseq-seq08-for-231-cycles-h3mgvbcxx_2_read_1_passed_filter.fastq.gz \\\n",
    "/local/shared/pinsky_lab/sequencing/hiseq_2015_05_11_SEQ08/clownfish-ddradseq-seq08-for-231-cycles-h3mgvbcxx_2_read_2_index_read_passed_filter.fastq.gz &"
   ]
  },
  {
   "cell_type": "markdown",
   "metadata": {},
   "source": [
    "## Check the output statistics in the nohup and move to logs with a rename"
   ]
  },
  {
   "cell_type": "code",
   "execution_count": 7,
   "metadata": {},
   "outputs": [
    {
     "name": "stdout",
     "output_type": "stream",
     "text": [
      "Traceback (most recent call last):\r\n",
      "  File \"/local/home/michelles/14_programs/paired_sequence_utils/barcode_splitter.py\", line 342, in <module>\r\n",
      "    sys.exit(main())\r\n",
      "  File \"/local/home/michelles/14_programs/paired_sequence_utils/barcode_splitter.py\", line 95, in main\r\n",
      "    barcode_dict = read_barcodes(options.bcfile)\r\n",
      "  File \"/local/home/michelles/14_programs/paired_sequence_utils/barcode_splitter.py\", line 203, in read_barcodes\r\n",
      "    filehandle = open(filename, 'rb')\r\n",
      "IOError: [Errno 2] No such file or directory: '../../logs/index-08seq'\r\n"
     ]
    }
   ],
   "source": [
    "!head /data/apcl/08seq/bcsplit/lane1/nohup.out"
   ]
  },
  {
   "cell_type": "code",
   "execution_count": null,
   "metadata": {},
   "outputs": [],
   "source": [
    "!mv /data/apcl/07seq/bcsplit/lane1/nohup.out /data/apcl/07seq/logs/lane1.out"
   ]
  },
  {
   "cell_type": "code",
   "execution_count": null,
   "metadata": {},
   "outputs": [],
   "source": [
    "!head /data/apcl/07seq/bcsplit/lane2/nohup.out"
   ]
  },
  {
   "cell_type": "code",
   "execution_count": null,
   "metadata": {},
   "outputs": [],
   "source": [
    "!mv /data/apcl/07seq/bcsplit/lane2/nohup.out /data/apcl/07seq/logs/lane2.out"
   ]
  },
  {
   "cell_type": "markdown",
   "metadata": {},
   "source": [
    "## Concatenate the results in the bcsplit folder - took about 1 minute"
   ]
  },
  {
   "cell_type": "code",
   "execution_count": null,
   "metadata": {},
   "outputs": [],
   "source": [
    "%%bash\n",
    "cd /data/apcl/07seq/bcsplit/\n",
    "cat ./lane1/P016-read-1.fastq.gz ./lane2/P016-read-1.fastq.gz > ../01Pool/P016.fastq.gz\n",
    "cat ./lane1/P017-read-1.fastq.gz ./lane2/P017-read-1.fastq.gz > ../02Pool/P017.fastq.gz\n",
    "cat ./lane1/P018-read-1.fastq.gz ./lane2/P018-read-1.fastq.gz > ../03Pool/P018.fastq.gz\n",
    "cat ./lane1/P019-read-1.fastq.gz ./lane2/P019-read-1.fastq.gz > ../04Pool/P019.fastq.gz"
   ]
  },
  {
   "cell_type": "markdown",
   "metadata": {},
   "source": [
    "## Run process radtags with script - takes ~2 hours for 192 samples\n",
    "* Had to **nano the script** to point to the correct place and changed my email to gmail so I will get it on my phone (if it sends)\n",
    "* If this notebook closes, these processes stop - **ended up pasting this into a terminal window** because I was afraid the network would drop and the process would stop\n",
    "\n",
    "* Started at 6:42am on Tuesday\n",
    "* finished between 7:45am and 9:15am on Tuesday"
   ]
  },
  {
   "cell_type": "code",
   "execution_count": null,
   "metadata": {},
   "outputs": [],
   "source": [
    "!ls /data/apcl/07seq/scripts"
   ]
  },
  {
   "cell_type": "markdown",
   "metadata": {},
   "source": [
    "%%bash\n",
    "cd /data/apcl/07seq/01Pool/\n",
    "nohup ../scripts/16process.sh &\n",
    "cd /data/apcl/07seq/02Pool/\n",
    "nohup ../scripts/17process.sh &\n",
    "cd /data/apcl/07seq/03Pool/\n",
    "nohup ../scripts/18process.sh &\n",
    "cd /data/apcl/07seq/04Pool/\n",
    "nohup ../scripts/19process.sh &"
   ]
  },
  {
   "cell_type": "markdown",
   "metadata": {},
   "source": [
    "## Move the process_radtags logs to the logs folder - wrote command lines for large batches in seq_proc.Rmd notebook and saved the lines in files called SEQXX-move_radlogs.sh \n",
    "\n",
    "The script did this for us so we don't have to"
   ]
  },
  {
   "cell_type": "code",
   "execution_count": null,
   "metadata": {},
   "outputs": [],
   "source": [
    "#%%bash\n",
    "#mv 01Pool/process_radtags.log ./logs/processP012.log\n",
    "#mv 02Pool/process_radtags.log ./logs/processP013.log\n",
    "#mv 03Pool/process_radtags.log ./logs/processP014.log\n",
    "#mv 04Pool/process_radtags.log ./logs/processP015.log"
   ]
  },
  {
   "cell_type": "code",
   "execution_count": null,
   "metadata": {},
   "outputs": [],
   "source": [
    "!ls /data/apcl/07seq/logs"
   ]
  },
  {
   "cell_type": "markdown",
   "metadata": {},
   "source": [
    "## Run the readprocesslog.py script to convert the process log into a tsv that can be imported into the database through R\n",
    "* This was done years ago, not doing now."
   ]
  },
  {
   "cell_type": "markdown",
   "metadata": {},
   "source": [
    "%%bash\n",
    "cd ~/02-apcl-ddocent/04seq/01Pool/\n",
    "readprocesslog.py ../logs/20process.out\n",
    "cd ~/02-apcl-ddocent/04seq/02Pool/\n",
    "readprocesslog.py ../logs/21process.out\n",
    "cd ~/02-apcl-ddocent/04seq/03Pool/\n",
    "readprocesslog.py ../logs/22process.out\n",
    "cd ~/02-apcl-ddocent/04seq/04Pool/\n",
    "readprocesslog.py ../logs/23process.out"
   ]
  },
  {
   "cell_type": "markdown",
   "metadata": {},
   "source": [
    "## Move the newly created tsvs to the laptop with fetch \n",
    "* import them into the database using the R notebook script read_to_db.Rmd"
   ]
  },
  {
   "cell_type": "markdown",
   "metadata": {},
   "source": [
    "## Rename the sample files\n",
    "* **recreate the names files using only the ligation id**\n",
    "* current names files have sample id included\n",
    "* using the seq_proc.Rmd script in the methods repository > procedural notebooks"
   ]
  },
  {
   "cell_type": "code",
   "execution_count": null,
   "metadata": {},
   "outputs": [],
   "source": [
    "%%bash\n",
    "cd /data/apcl/07seq/01Pool/\n",
    "sh rename.for.dDocent_se_gz ../logs/names_016.tsv\n",
    "mv APCL* /data/apcl/07seq/samples/\n",
    "cd /data/apcl/07seq/02Pool/\n",
    "sh rename.for.dDocent_se_gz ../logs/names_017.tsv\n",
    "mv APCL* /data/apcl/07seq/samples/\n",
    "cd /data/apcl/07seq/03Pool/\n",
    "sh rename.for.dDocent_se_gz ../logs/names_018.tsv\n",
    "mv APCL* /data/apcl/07seq/samples/\n",
    "cd /data/apcl/07seq/04Pool/\n",
    "sh rename.for.dDocent_se_gz ../logs/names_019.tsv\n",
    "mv APCL* /data/apcl/07seq/samples/"
   ]
  },
  {
   "cell_type": "markdown",
   "metadata": {},
   "source": [
    "## Once all of the samples have been moved, delete the pool directories"
   ]
  },
  {
   "cell_type": "code",
   "execution_count": null,
   "metadata": {},
   "outputs": [],
   "source": [
    "!rm -r /data/apcl/07seq/*Pool"
   ]
  },
  {
   "cell_type": "markdown",
   "metadata": {},
   "source": [
    "## Identify regenotyped samples, cat and move them."
   ]
  },
  {
   "cell_type": "markdown",
   "metadata": {},
   "source": [
    "* using the R script cat_regenos.Rmd \n",
    "* files were all cat'd during seq28\n",
    "* still need to be moved"
   ]
  },
  {
   "cell_type": "code",
   "execution_count": null,
   "metadata": {},
   "outputs": [],
   "source": [
    "!mkdir /data/apcl/07seq/samples/regenos"
   ]
  },
  {
   "cell_type": "code",
   "execution_count": null,
   "metadata": {},
   "outputs": [],
   "source": [
    "%%bash\n",
    "#!/bin/bash\n",
    "mv /data/apcl/07seq/samples/APCL_L0448* /data/apcl/07seq/samples/regenos/\n",
    "mv /data/apcl/07seq/samples/APCL_L0449* /data/apcl/07seq/samples/regenos/\n",
    "mv /data/apcl/07seq/samples/APCL_L0455* /data/apcl/07seq/samples/regenos/\n",
    "mv /data/apcl/07seq/samples/APCL_L0485* /data/apcl/07seq/samples/regenos/\n",
    "mv /data/apcl/07seq/samples/APCL_L0486* /data/apcl/07seq/samples/regenos/\n",
    "mv /data/apcl/07seq/samples/APCL_L1025* /data/apcl/07seq/samples/regenos/\n",
    "mv /data/apcl/07seq/samples/APCL_L1026* /data/apcl/07seq/samples/regenos/\n",
    "mv /data/apcl/07seq/samples/APCL_L1027* /data/apcl/07seq/samples/regenos/\n",
    "mv /data/apcl/07seq/samples/APCL_L1028* /data/apcl/07seq/samples/regenos/\n",
    "mv /data/apcl/07seq/samples/APCL_L1029* /data/apcl/07seq/samples/regenos/\n",
    "mv /data/apcl/07seq/samples/APCL_L1030* /data/apcl/07seq/samples/regenos/\n",
    "mv /data/apcl/07seq/samples/APCL_L1031* /data/apcl/07seq/samples/regenos/\n",
    "mv /data/apcl/07seq/samples/APCL_L1032* /data/apcl/07seq/samples/regenos/\n",
    "mv /data/apcl/07seq/samples/APCL_L1033* /data/apcl/07seq/samples/regenos/\n",
    "mv /data/apcl/07seq/samples/APCL_L1034* /data/apcl/07seq/samples/regenos/\n",
    "mv /data/apcl/07seq/samples/APCL_L1035* /data/apcl/07seq/samples/regenos/\n",
    "mv /data/apcl/07seq/samples/APCL_L1036* /data/apcl/07seq/samples/regenos/\n",
    "mv /data/apcl/07seq/samples/APCL_L1037* /data/apcl/07seq/samples/regenos/\n",
    "mv /data/apcl/07seq/samples/APCL_L1038* /data/apcl/07seq/samples/regenos/\n",
    "mv /data/apcl/07seq/samples/APCL_L1039* /data/apcl/07seq/samples/regenos/\n",
    "mv /data/apcl/07seq/samples/APCL_L1040* /data/apcl/07seq/samples/regenos/\n",
    "mv /data/apcl/07seq/samples/APCL_L1041* /data/apcl/07seq/samples/regenos/\n",
    "mv /data/apcl/07seq/samples/APCL_L1042* /data/apcl/07seq/samples/regenos/\n",
    "mv /data/apcl/07seq/samples/APCL_L1043* /data/apcl/07seq/samples/regenos/\n",
    "mv /data/apcl/07seq/samples/APCL_L1044* /data/apcl/07seq/samples/regenos/\n",
    "mv /data/apcl/07seq/samples/APCL_L1045* /data/apcl/07seq/samples/regenos/\n",
    "mv /data/apcl/07seq/samples/APCL_L1046* /data/apcl/07seq/samples/regenos/\n",
    "mv /data/apcl/07seq/samples/APCL_L1047* /data/apcl/07seq/samples/regenos/\n",
    "mv /data/apcl/07seq/samples/APCL_L1049* /data/apcl/07seq/samples/regenos/\n",
    "mv /data/apcl/07seq/samples/APCL_L1050* /data/apcl/07seq/samples/regenos/\n",
    "mv /data/apcl/07seq/samples/APCL_L1051* /data/apcl/07seq/samples/regenos/\n",
    "mv /data/apcl/07seq/samples/APCL_L1052* /data/apcl/07seq/samples/regenos/\n",
    "mv /data/apcl/07seq/samples/APCL_L1053* /data/apcl/07seq/samples/regenos/\n",
    "mv /data/apcl/07seq/samples/APCL_L1054* /data/apcl/07seq/samples/regenos/\n",
    "mv /data/apcl/07seq/samples/APCL_L1055* /data/apcl/07seq/samples/regenos/\n",
    "mv /data/apcl/07seq/samples/APCL_L1056* /data/apcl/07seq/samples/regenos/\n",
    "mv /data/apcl/07seq/samples/APCL_L1057* /data/apcl/07seq/samples/regenos/\n",
    "mv /data/apcl/07seq/samples/APCL_L1058* /data/apcl/07seq/samples/regenos/\n",
    "mv /data/apcl/07seq/samples/APCL_L1059* /data/apcl/07seq/samples/regenos/\n",
    "mv /data/apcl/07seq/samples/APCL_L1060* /data/apcl/07seq/samples/regenos/\n",
    "mv /data/apcl/07seq/samples/APCL_L1061* /data/apcl/07seq/samples/regenos/\n",
    "mv /data/apcl/07seq/samples/APCL_L1062* /data/apcl/07seq/samples/regenos/\n",
    "mv /data/apcl/07seq/samples/APCL_L1063* /data/apcl/07seq/samples/regenos/\n",
    "mv /data/apcl/07seq/samples/APCL_L1064* /data/apcl/07seq/samples/regenos/\n",
    "mv /data/apcl/07seq/samples/APCL_L1065* /data/apcl/07seq/samples/regenos/\n",
    "mv /data/apcl/07seq/samples/APCL_L1066* /data/apcl/07seq/samples/regenos/\n",
    "mv /data/apcl/07seq/samples/APCL_L1067* /data/apcl/07seq/samples/regenos/\n",
    "mv /data/apcl/07seq/samples/APCL_L1068* /data/apcl/07seq/samples/regenos/\n",
    "mv /data/apcl/07seq/samples/APCL_L1069* /data/apcl/07seq/samples/regenos/\n",
    "mv /data/apcl/07seq/samples/APCL_L1070* /data/apcl/07seq/samples/regenos/\n",
    "mv /data/apcl/07seq/samples/APCL_L1086* /data/apcl/07seq/samples/regenos/\n",
    "mv /data/apcl/07seq/samples/APCL_L1098* /data/apcl/07seq/samples/regenos/\n",
    "mv /data/apcl/07seq/samples/APCL_L1106* /data/apcl/07seq/samples/regenos/\n",
    "mv /data/apcl/07seq/samples/APCL_L1023* /data/apcl/07seq/samples/regenos/\n",
    "mv /data/apcl/07seq/samples/APCL_L1024* /data/apcl/07seq/samples/regenos/\n",
    "mv /data/apcl/07seq/samples/APCL_L1048* /data/apcl/07seq/samples/regenos/\n",
    "mv /data/apcl/07seq/samples/APCL_L0450* /data/apcl/07seq/samples/regenos/\n",
    "mv /data/apcl/07seq/samples/APCL_L0452* /data/apcl/07seq/samples/regenos/\n",
    "mv /data/apcl/07seq/samples/APCL_L0453* /data/apcl/07seq/samples/regenos/\n",
    "mv /data/apcl/07seq/samples/APCL_L0466* /data/apcl/07seq/samples/regenos/\n",
    "mv /data/apcl/07seq/samples/APCL_L0597* /data/apcl/07seq/samples/regenos/\n",
    "mv /data/apcl/07seq/samples/APCL_L0606* /data/apcl/07seq/samples/regenos/\n",
    "mv /data/apcl/07seq/samples/APCL_L0610* /data/apcl/07seq/samples/regenos/\n",
    "mv /data/apcl/07seq/samples/APCL_L0637* /data/apcl/07seq/samples/regenos/\n",
    "mv /data/apcl/07seq/samples/APCL_L0638* /data/apcl/07seq/samples/regenos/\n",
    "mv /data/apcl/07seq/samples/APCL_L0595* /data/apcl/07seq/samples/regenos/\n"
   ]
  },
  {
   "cell_type": "markdown",
   "metadata": {},
   "source": [
    "## Wait for 2 more seqs so there are 3 runs before trim, map and call"
   ]
  }
 ],
 "metadata": {
  "celltoolbar": "Raw Cell Format",
  "kernelspec": {
   "display_name": "Python 3",
   "language": "python",
   "name": "python3"
  },
  "language_info": {
   "codemirror_mode": {
    "name": "ipython",
    "version": 3
   },
   "file_extension": ".py",
   "mimetype": "text/x-python",
   "name": "python",
   "nbconvert_exporter": "python",
   "pygments_lexer": "ipython3",
   "version": "3.6.4"
  }
 },
 "nbformat": 4,
 "nbformat_minor": 2
}
